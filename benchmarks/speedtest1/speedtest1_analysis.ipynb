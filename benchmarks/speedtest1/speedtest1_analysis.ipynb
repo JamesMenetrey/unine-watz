{
 "cells": [
  {
   "cell_type": "code",
   "execution_count": null,
   "metadata": {},
   "outputs": [],
   "source": [
    "# Imports\n",
    "import matplotlib\n",
    "import matplotlib.pyplot as plt\n",
    "import numpy as np\n",
    "import pandas as pd\n",
    "from scipy import stats\n",
    "\n",
    "plt.rcParams['figure.figsize'] = (15.0, 8.0) # set default size of plots\n",
    "plt.rcParams['figure.facecolor'] = 'white'\n",
    "\n",
    "matplotlib.rcParams.update({'font.size': 15})"
   ]
  },
  {
   "cell_type": "code",
   "execution_count": null,
   "metadata": {},
   "outputs": [],
   "source": [
    "TIME_RETRIEVAL_REE = 0\n",
    "TIME_RETRIEVAL_TEE = 10\n",
    "TIME_RETRIEVAL_REE_WASM = 0\n",
    "TIME_RETRIEVAL_TEE_WASM = 13"
   ]
  },
  {
   "cell_type": "code",
   "execution_count": null,
   "metadata": {},
   "outputs": [],
   "source": [
    "def compute_mean_std(name, time):\n",
    "    df = pd.DataFrame(columns = [\"Name\",\"Time\"])\n",
    "    df[\"Name\"] = pd.to_numeric(name)\n",
    "    df[\"Time\"] = time\n",
    "    \n",
    "    result = pd.DataFrame(columns = [\"Mean\",\"Std\"])\n",
    "    result[\"Mean\"] = df.groupby(\"Name\")[\"Time\"].median() #df.groupby(\"Size\")[\"Time\"].apply(stats.gmean)\n",
    "    result[\"Std\"] = df.groupby(\"Name\")[\"Time\"].std() #df.groupby(\"Size\")[\"Time\"].apply(stats.gstd)\n",
    "    \n",
    "    return result\n",
    "\n",
    "def formatForLatex(n, digits_round = 3):\n",
    "    roundedAsString = str(round(n, digits_round))\n",
    "    if \".\" in roundedAsString:\n",
    "        roundedAsString = roundedAsString.rstrip(\"0\")\n",
    "        roundedAsString = roundedAsString.rstrip(\".\")\n",
    "    return f\"{roundedAsString}\""
   ]
  },
  {
   "cell_type": "code",
   "execution_count": null,
   "metadata": {},
   "outputs": [],
   "source": [
    "#\n",
    "## TEE (Wasm) dataset\n",
    "#"
   ]
  },
  {
   "cell_type": "code",
   "execution_count": null,
   "metadata": {},
   "outputs": [],
   "source": [
    "# Import the dataset\n",
    "tee_wasm_raw = pd.read_csv(\"../logs/speedtest1/tee-wasm.csv\", names = [\"Name\",\"Time\"])\n",
    "tee_wasm_raw[\"Name\"] = tee_wasm_raw[\"Name\"]\n",
    "\n",
    "tee_wasm_raw"
   ]
  },
  {
   "cell_type": "code",
   "execution_count": null,
   "metadata": {},
   "outputs": [],
   "source": [
    "# Adapt the time according the retrieval of the time\n",
    "tee_wasm = tee_wasm_raw\n",
    "\n",
    "tee_wasm[\"Time\"] = tee_wasm[\"Time\"] - 2*TIME_RETRIEVAL_TEE_WASM/2\n",
    "\n",
    "# Drop any error in the logs\n",
    "tee_wasm.drop(tee_wasm[tee_wasm.Name.str.contains(\"failed\")].index, inplace = True)\n",
    "tee_wasm = tee_wasm.reset_index()\n",
    "\n",
    "tee_wasm"
   ]
  },
  {
   "cell_type": "code",
   "execution_count": null,
   "metadata": {},
   "outputs": [],
   "source": [
    "#\n",
    "## TEE (Native) dataset\n",
    "#"
   ]
  },
  {
   "cell_type": "code",
   "execution_count": null,
   "metadata": {},
   "outputs": [],
   "source": [
    "# Import the dataset\n",
    "tee_native_raw = pd.read_csv(\"../logs/speedtest1/tee-native.csv\", names = [\"Name\",\"Time\"])\n",
    "tee_native_raw[\"Name\"] = tee_native_raw[\"Name\"]\n",
    "\n",
    "# Trim to results to match TEE logs, which may have been trimmed because of errors\n",
    "tee_native_raw.drop(tee_native_raw.index[len(tee_wasm.index):], inplace = True)\n",
    "\n",
    "tee_native_raw"
   ]
  },
  {
   "cell_type": "code",
   "execution_count": null,
   "metadata": {},
   "outputs": [],
   "source": [
    "# Adapt the time according the retrieval of the time\n",
    "tee_native = tee_native_raw\n",
    "\n",
    "tee_native[\"Time\"] = tee_native[\"Time\"] - 2*TIME_RETRIEVAL_TEE/2\n",
    "\n",
    "tee_native"
   ]
  },
  {
   "cell_type": "code",
   "execution_count": null,
   "metadata": {},
   "outputs": [],
   "source": [
    "#\n",
    "## REE (Native) dataset\n",
    "#"
   ]
  },
  {
   "cell_type": "code",
   "execution_count": null,
   "metadata": {},
   "outputs": [],
   "source": [
    "# Import the dataset\n",
    "ree_native_raw = pd.read_csv(\"../logs/speedtest1/ree-native.csv\", names = [\"Name\",\"Time\"])\n",
    "ree_native_raw[\"Name\"] = ree_native_raw[\"Name\"]\n",
    "\n",
    "# Trim to results to match TEE logs, which may have been trimmed because of errors\n",
    "ree_native_raw.drop(ree_native_raw.index[len(tee_wasm.index):], inplace = True)\n",
    "\n",
    "ree_native_raw"
   ]
  },
  {
   "cell_type": "code",
   "execution_count": null,
   "metadata": {},
   "outputs": [],
   "source": [
    "# Adapt the time according the retrieval of the time\n",
    "ree_native = ree_native_raw\n",
    "\n",
    "ree_native[\"Time\"] = ree_native[\"Time\"] - 2*TIME_RETRIEVAL_REE/2\n",
    "\n",
    "ree_native"
   ]
  },
  {
   "cell_type": "code",
   "execution_count": null,
   "metadata": {},
   "outputs": [],
   "source": [
    "#\n",
    "## REE (Wasm) dataset\n",
    "#"
   ]
  },
  {
   "cell_type": "code",
   "execution_count": null,
   "metadata": {},
   "outputs": [],
   "source": [
    "# Import the dataset\n",
    "ree_wasm_raw = pd.read_csv(\"../logs/speedtest1/ree-wasm.csv\", names = [\"Name\",\"Time\"])\n",
    "ree_wasm_raw[\"Name\"] = ree_wasm_raw[\"Name\"]\n",
    "\n",
    "# Trim to results to match TEE logs, which may have been trimmed because of errors\n",
    "ree_wasm_raw.drop(ree_wasm_raw.index[len(tee_wasm.index):], inplace = True)\n",
    "\n",
    "ree_wasm_raw"
   ]
  },
  {
   "cell_type": "code",
   "execution_count": null,
   "metadata": {},
   "outputs": [],
   "source": [
    "# Adapt the time according the retrieval of the time\n",
    "ree_wasm = ree_wasm_raw\n",
    "\n",
    "ree_wasm[\"Time\"] = ree_wasm[\"Time\"] - 2*TIME_RETRIEVAL_REE_WASM/2\n",
    "\n",
    "ree_wasm"
   ]
  },
  {
   "cell_type": "code",
   "execution_count": null,
   "metadata": {},
   "outputs": [],
   "source": [
    "#\n",
    "## Export\n",
    "#"
   ]
  },
  {
   "cell_type": "code",
   "execution_count": null,
   "metadata": {},
   "outputs": [],
   "source": [
    "# Normalize the results based on REE time\n",
    "ree_native_normalized = pd.DataFrame()\n",
    "ree_wasm_normalized = pd.DataFrame()\n",
    "tee_native_normalized = pd.DataFrame()\n",
    "tee_wasm_normalized = pd.DataFrame()\n",
    "for col in ree_native:\n",
    "    if col == \"Name\":\n",
    "        tee_wasm_normalized[col] = tee_wasm[col]\n",
    "        ree_wasm_normalized[col] = ree_wasm[col]\n",
    "        tee_native_normalized[col] = tee_native[col]\n",
    "        ree_native_normalized[col] = ree_native[col]\n",
    "    else:\n",
    "        tee_wasm_normalized[col] = tee_wasm[col] / ree_native[col]\n",
    "        ree_wasm_normalized[col] = ree_wasm[col] / ree_native[col]\n",
    "        tee_native_normalized[col] = tee_native[col] / ree_native[col]\n",
    "        ree_native_normalized[col] = 1\n",
    "    \n",
    "tee_wasm_normalized"
   ]
  },
  {
   "cell_type": "code",
   "execution_count": null,
   "metadata": {},
   "outputs": [],
   "source": [
    "# Compute the mean and std\n",
    "ree_native_export = pd.DataFrame()\n",
    "\n",
    "ree_native_export = ree_native_export.append(compute_mean_std(ree_native_normalized[\"Name\"], ree_native_normalized[\"Time\"]))\n",
    "ree_native_export"
   ]
  },
  {
   "cell_type": "code",
   "execution_count": null,
   "metadata": {},
   "outputs": [],
   "source": [
    "# Compute the mean and std\n",
    "ree_wasm_export = pd.DataFrame()\n",
    "\n",
    "ree_wasm_export = ree_wasm_export.append(compute_mean_std(ree_wasm_normalized[\"Name\"], ree_wasm_normalized[\"Time\"]))\n",
    "ree_wasm_export"
   ]
  },
  {
   "cell_type": "code",
   "execution_count": null,
   "metadata": {},
   "outputs": [],
   "source": [
    "# Compute the mean and std\n",
    "tee_wasm_export = pd.DataFrame()\n",
    "\n",
    "tee_wasm_export = tee_wasm_export.append(compute_mean_std(tee_wasm_normalized[\"Name\"], tee_wasm_normalized[\"Time\"]))\n",
    "tee_wasm_export"
   ]
  },
  {
   "cell_type": "code",
   "execution_count": null,
   "metadata": {},
   "outputs": [],
   "source": [
    "# Compute the mean and std\n",
    "tee_native_export = pd.DataFrame()\n",
    "\n",
    "tee_native_export = tee_native_export.append(compute_mean_std(tee_native_normalized[\"Name\"], tee_native_normalized[\"Time\"]))\n",
    "tee_native_export"
   ]
  },
  {
   "cell_type": "code",
   "execution_count": null,
   "metadata": {},
   "outputs": [],
   "source": [
    "#\n",
    "## Temp visualisation\n",
    "#"
   ]
  },
  {
   "cell_type": "code",
   "execution_count": null,
   "metadata": {},
   "outputs": [],
   "source": [
    "df = pd.DataFrame({'REE native': ree_native_export[\"Mean\"],\n",
    "                   'REE Wasm': ree_wasm_export[\"Mean\"],\n",
    "                   'TEE Wasm': tee_wasm_export[\"Mean\"],\n",
    "                   'TEE Native': tee_native_export[\"Mean\"]}, index=ree_native_export.index.values)\n",
    "ax = df.plot.bar()\n",
    "ax.set_ylim(0.9,3)"
   ]
  },
  {
   "cell_type": "code",
   "execution_count": null,
   "metadata": {},
   "outputs": [],
   "source": [
    "# Retrieve the name of the experiment, order by TEE normalized run time\n",
    "tee_wasm_indexes = tee_wasm_export.sort_values(by=[\"Mean\"]).index\n",
    "tee_wasm_indexes"
   ]
  },
  {
   "cell_type": "code",
   "execution_count": null,
   "metadata": {},
   "outputs": [],
   "source": [
    "# Order the entries based on the TEE normalized run time\n",
    "ree_wasm_export = ree_wasm_export.reindex(tee_wasm_indexes)\n",
    "tee_wasm_export = tee_wasm_export.reindex(tee_wasm_indexes)\n",
    "tee_native_export = tee_native_export.reindex(tee_wasm_indexes)"
   ]
  },
  {
   "cell_type": "code",
   "execution_count": null,
   "metadata": {},
   "outputs": [],
   "source": [
    "# Compute values for the paper\n",
    "\n",
    "def get_mean_of_experiment(name):\n",
    "    return tee_wasm_export.loc[tee_wasm_export.index == name][\"Mean\"].values[0]\n",
    "\n",
    "tee_wasm_mean_of_mean = tee_wasm_export[\"Mean\"].mean()\n",
    "ree_wasm_mean_of_mean = ree_wasm_export[\"Mean\"].mean()\n",
    "tee_native_mean_of_mean = tee_native_export[\"Mean\"].mean()\n",
    "tee_wasm_and_tee_native_ratio = tee_wasm_mean_of_mean / tee_native_mean_of_mean\n",
    "\n",
    "tee_wasm_insert_mean = pd.DataFrame(\n",
    "[\n",
    "    get_mean_of_experiment(100),\n",
    "    get_mean_of_experiment(110),\n",
    "    get_mean_of_experiment(120),\n",
    "    get_mean_of_experiment(180),\n",
    "    get_mean_of_experiment(190),\n",
    "    get_mean_of_experiment(210),\n",
    "    get_mean_of_experiment(290),\n",
    "    get_mean_of_experiment(300),\n",
    "    get_mean_of_experiment(400),\n",
    "    get_mean_of_experiment(500)\n",
    "]).mean()\n",
    "\n",
    "tee_wasm_index_mean = pd.DataFrame(\n",
    "[\n",
    "    get_mean_of_experiment(110),\n",
    "    get_mean_of_experiment(120),\n",
    "    get_mean_of_experiment(160),\n",
    "    get_mean_of_experiment(161),\n",
    "    get_mean_of_experiment(170),\n",
    "    get_mean_of_experiment(180),\n",
    "    get_mean_of_experiment(230),\n",
    "    get_mean_of_experiment(270),\n",
    "    get_mean_of_experiment(400),\n",
    "    get_mean_of_experiment(410),\n",
    "    get_mean_of_experiment(500),\n",
    "    get_mean_of_experiment(510)\n",
    "]).mean()\n",
    "\n",
    "tee_wasm_select_mean = pd.DataFrame(\n",
    "[\n",
    "    get_mean_of_experiment(130),\n",
    "    get_mean_of_experiment(140),\n",
    "    get_mean_of_experiment(142),\n",
    "    get_mean_of_experiment(145),\n",
    "    get_mean_of_experiment(160),\n",
    "    get_mean_of_experiment(161),\n",
    "    get_mean_of_experiment(170),\n",
    "    get_mean_of_experiment(260),\n",
    "    get_mean_of_experiment(310),\n",
    "    get_mean_of_experiment(320),\n",
    "    get_mean_of_experiment(410),\n",
    "    get_mean_of_experiment(510),\n",
    "    get_mean_of_experiment(520)\n",
    "]).mean()\n",
    "tee_wasm_select_mean.values[0]"
   ]
  },
  {
   "cell_type": "code",
   "execution_count": null,
   "metadata": {},
   "outputs": [],
   "source": [
    "ree_wasm_mean_of_mean"
   ]
  },
  {
   "cell_type": "code",
   "execution_count": null,
   "metadata": {},
   "outputs": [],
   "source": [
    "tee_wasm_mean_of_mean"
   ]
  },
  {
   "cell_type": "code",
   "execution_count": null,
   "metadata": {},
   "outputs": [],
   "source": [
    "tee_native_mean_of_mean"
   ]
  },
  {
   "cell_type": "code",
   "execution_count": null,
   "metadata": {},
   "outputs": [],
   "source": [
    "tee_wasm_insert_mean"
   ]
  },
  {
   "cell_type": "code",
   "execution_count": null,
   "metadata": {},
   "outputs": [],
   "source": [
    "tee_wasm_select_mean"
   ]
  },
  {
   "cell_type": "code",
   "execution_count": null,
   "metadata": {},
   "outputs": [],
   "source": [
    "tee_wasm_write_mean"
   ]
  },
  {
   "cell_type": "code",
   "execution_count": null,
   "metadata": {},
   "outputs": [],
   "source": [
    "# Export CSV\n",
    "#\n",
    "# File format: experiment_name, mean, stddev\n",
    "\n",
    "ree_wasm_export.to_csv('../logs/speedtest1/ree_wasm_formatted.csv', float_format='%.2f')\n",
    "tee_wasm_export.to_csv('../logs/speedtest1/tee_wasm_formatted.csv', float_format='%.2f')\n",
    "tee_native_export.to_csv('../logs/speedtest1/tee_native_formatted.csv', float_format='%.2f')"
   ]
  },
  {
   "cell_type": "code",
   "execution_count": null,
   "metadata": {},
   "outputs": [],
   "source": [
    "# Export LaTeX\n",
    "\n",
    "prefix = \"SpeedtestOne\"\n",
    "\n",
    "def write(file, column_name, number, digits_round = 3):\n",
    "    f.write(f\"\\\\def\\\\bm{prefix}{column_name}{{{formatForLatex(number, digits_round)}}}\\n\")\n",
    "\n",
    "f = open('../logs/speedtest1/export.tex', \"w\")\n",
    "write(f, \"GlobalSlowdownTeeWasm\", tee_wasm_mean_of_mean, 2)\n",
    "write(f, \"GlobalSlowdownTeeNative\", tee_native_mean_of_mean, 2)\n",
    "write(f, \"GlobalSlowdownReeWasm\", ree_wasm_mean_of_mean, 2)\n",
    "write(f, \"GlobalRatioTeeWasmAndTeeNative\", tee_wasm_and_tee_native_ratio, 2)\n",
    "write(f, \"InsertAverage\", tee_wasm_insert_mean.values[0], 2)\n",
    "write(f, \"IndexAverage\", tee_wasm_index_mean.values[0], 2)\n",
    "write(f, \"SelectAverage\", tee_wasm_select_mean.values[0], 2)\n",
    "write(f, \"GlobalSlowdownPercent\", (tee_wasm_mean_of_mean - 1) * 100, 1)\n",
    "write(f, \"InsertAveragePercent\", (tee_wasm_insert_mean.values[0] - 1) * 100, 1)\n",
    "write(f, \"IndexAveragePercent\", (tee_wasm_index_mean.values[0] - 1) * 100, 1)\n",
    "write(f, \"SelectAveragePercent\", (tee_wasm_select_mean.values[0] - 1) * 100, 1)\n",
    "f.close()"
   ]
  },
  {
   "cell_type": "code",
   "execution_count": null,
   "metadata": {},
   "outputs": [],
   "source": []
  }
 ],
 "metadata": {
  "kernelspec": {
   "display_name": "Python 3 (ipykernel)",
   "language": "python",
   "name": "python3"
  },
  "language_info": {
   "codemirror_mode": {
    "name": "ipython",
    "version": 3
   },
   "file_extension": ".py",
   "mimetype": "text/x-python",
   "name": "python",
   "nbconvert_exporter": "python",
   "pygments_lexer": "ipython3",
   "version": "3.9.5"
  }
 },
 "nbformat": 4,
 "nbformat_minor": 4
}
