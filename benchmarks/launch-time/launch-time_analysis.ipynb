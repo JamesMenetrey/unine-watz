{
 "cells": [
  {
   "cell_type": "code",
   "execution_count": null,
   "metadata": {},
   "outputs": [],
   "source": [
    "# Imports\n",
    "import matplotlib\n",
    "import matplotlib.pyplot as plt\n",
    "import numpy as np\n",
    "import pandas as pd\n",
    "from scipy import stats\n",
    "\n",
    "plt.rcParams['figure.figsize'] = (15.0, 8.0) # set default size of plots\n",
    "plt.rcParams['figure.facecolor'] = 'white'\n",
    "\n",
    "pd.set_option('display.max_rows', None)\n",
    "\n",
    "matplotlib.rcParams.update({'font.size': 15})"
   ]
  },
  {
   "cell_type": "code",
   "execution_count": null,
   "metadata": {},
   "outputs": [],
   "source": [
    "TIME_RETRIEVAL_REE = 0\n",
    "TIME_RETRIEVAL_TEE = 10\n",
    "TIME_RETRIEVAL_REE_WASM = 0\n",
    "TIME_RETRIEVAL_TEE_WASM = 13"
   ]
  },
  {
   "cell_type": "code",
   "execution_count": null,
   "metadata": {},
   "outputs": [],
   "source": [
    "def compute_mean_std(size, time, factor = 1):\n",
    "    df = pd.DataFrame(columns = [\"Size\",\"Time\"])\n",
    "    df[\"Size\"] = size\n",
    "    df[\"Time\"] = time * factor\n",
    "    \n",
    "    result = pd.DataFrame(columns = [\"Size\",\"Mean\",\"Std\"])\n",
    "    result[\"Mean\"] = df.groupby(\"Size\")[\"Time\"].median() #df.groupby(\"Size\")[\"Time\"].apply(stats.gmean)\n",
    "    result[\"Std\"] = df.groupby(\"Size\")[\"Time\"].std() #df.groupby(\"Size\")[\"Time\"].apply(stats.gstd)\n",
    "    result[\"Size\"] = df.groupby(\"Size\").groups.keys()\n",
    "    \n",
    "    return result\n",
    "\n",
    "def formatForLatex(n):\n",
    "    roundedAsString = str(round(n, 0))\n",
    "    if \".\" in roundedAsString:\n",
    "        roundedAsString = roundedAsString.rstrip(\"0\")\n",
    "        roundedAsString = roundedAsString.rstrip(\".\")\n",
    "    return f\"{roundedAsString}\""
   ]
  },
  {
   "cell_type": "code",
   "execution_count": null,
   "metadata": {},
   "outputs": [],
   "source": [
    "# Import the dataset\n",
    "columns = [\"Size\",\"LaunchStart\",\"MemoryStart\",\"MemoryEnd\",\"HashStart\",\"HashEnd\",\"InitEnd\",\"LoadEnd\",\"InstantiateEnd\",\"LaunchEnd\"]\n",
    "launchtime_raw = pd.read_csv(\"../logs/launch-time/general.csv\", names = columns)\n",
    "\n",
    "launchtime_raw"
   ]
  },
  {
   "cell_type": "code",
   "execution_count": null,
   "metadata": {},
   "outputs": [],
   "source": [
    "# Summary of the gathered timespans\n",
    "launchtime = pd.DataFrame()\n",
    "launchtime[\"Size\"] = launchtime_raw[\"Size\"]\n",
    "\n",
    "launchtime[\"LaunchSpan\"] = launchtime_raw[\"LaunchEnd\"] - launchtime_raw[\"LaunchStart\"] \\\n",
    "                        - TIME_RETRIEVAL_REE/2 - 7*TIME_RETRIEVAL_TEE - TIME_RETRIEVAL_TEE_WASM/2\n",
    "\n",
    "launchtime[\"TransitionSpan\"] = launchtime_raw[\"MemoryStart\"] - launchtime_raw[\"LaunchStart\"] \\\n",
    "                        - TIME_RETRIEVAL_REE/2 - TIME_RETRIEVAL_TEE/2\n",
    "\n",
    "launchtime[\"MemorySpan\"] = launchtime_raw[\"MemoryEnd\"] - launchtime_raw[\"MemoryStart\"] \\\n",
    "                        - 2*TIME_RETRIEVAL_TEE/2\n",
    "\n",
    "launchtime[\"HashSpan\"] = launchtime_raw[\"HashEnd\"] - launchtime_raw[\"HashStart\"] \\\n",
    "                        - 2*TIME_RETRIEVAL_TEE/2\n",
    "\n",
    "launchtime[\"WasmInitSpan\"] = launchtime_raw[\"InitEnd\"] - launchtime_raw[\"HashEnd\"] \\\n",
    "                        - 2*TIME_RETRIEVAL_TEE/2\n",
    "\n",
    "launchtime[\"WasmLoadSpan\"] = launchtime_raw[\"LoadEnd\"] - launchtime_raw[\"InitEnd\"] \\\n",
    "                        - 2*TIME_RETRIEVAL_TEE/2\n",
    "\n",
    "launchtime[\"WasmInstantiateSpan\"] = launchtime_raw[\"InstantiateEnd\"] - launchtime_raw[\"LoadEnd\"] \\\n",
    "                        - 2*TIME_RETRIEVAL_TEE/2\n",
    "\n",
    "launchtime[\"WasmExecutionSpan\"] = launchtime_raw[\"LaunchEnd\"] - launchtime_raw[\"InstantiateEnd\"] \\\n",
    "                        - TIME_RETRIEVAL_TEE/2 - TIME_RETRIEVAL_TEE_WASM/2\n",
    "\n",
    "launchtime[\"OtherSpan\"] = launchtime[\"LaunchSpan\"] - launchtime[\"TransitionSpan\"] - launchtime[\"MemorySpan\"] \\\n",
    "                        - launchtime[\"HashSpan\"] - launchtime[\"WasmInitSpan\"] - launchtime[\"WasmLoadSpan\"] \\\n",
    "                        - launchtime[\"WasmInstantiateSpan\"] - launchtime[\"WasmExecutionSpan\"]\n",
    "\n",
    "launchtime"
   ]
  },
  {
   "cell_type": "code",
   "execution_count": null,
   "metadata": {},
   "outputs": [],
   "source": [
    "# Compute the mean and std\n",
    "launch_span = compute_mean_std(launchtime_raw[\"Size\"], launchtime[\"LaunchSpan\"], factor=0.001)\n",
    "launch_span"
   ]
  },
  {
   "cell_type": "code",
   "execution_count": null,
   "metadata": {},
   "outputs": [],
   "source": [
    "transition_span = compute_mean_std(launchtime_raw[\"Size\"], launchtime[\"TransitionSpan\"], factor=0.001)\n",
    "transition_span"
   ]
  },
  {
   "cell_type": "code",
   "execution_count": null,
   "metadata": {},
   "outputs": [],
   "source": [
    "memory_span = compute_mean_std(launchtime_raw[\"Size\"], launchtime[\"MemorySpan\"], factor=0.001)\n",
    "memory_span"
   ]
  },
  {
   "cell_type": "code",
   "execution_count": null,
   "metadata": {},
   "outputs": [],
   "source": [
    "hash_span = compute_mean_std(launchtime_raw[\"Size\"], launchtime[\"HashSpan\"], factor=0.001)\n",
    "hash_span"
   ]
  },
  {
   "cell_type": "code",
   "execution_count": null,
   "metadata": {},
   "outputs": [],
   "source": [
    "wasm_init_span = compute_mean_std(launchtime_raw[\"Size\"], launchtime[\"WasmInitSpan\"], factor=0.001)\n",
    "wasm_init_span"
   ]
  },
  {
   "cell_type": "code",
   "execution_count": null,
   "metadata": {},
   "outputs": [],
   "source": [
    "wasm_load_span = compute_mean_std(launchtime_raw[\"Size\"], launchtime[\"WasmLoadSpan\"], factor=0.001)\n",
    "wasm_load_span"
   ]
  },
  {
   "cell_type": "code",
   "execution_count": null,
   "metadata": {},
   "outputs": [],
   "source": [
    "wasm_instantiate_span = compute_mean_std(launchtime_raw[\"Size\"], launchtime[\"WasmInstantiateSpan\"], factor=0.001)\n",
    "wasm_instantiate_span"
   ]
  },
  {
   "cell_type": "code",
   "execution_count": null,
   "metadata": {},
   "outputs": [],
   "source": [
    "wasm_execution_span = compute_mean_std(launchtime_raw[\"Size\"], launchtime[\"WasmExecutionSpan\"], factor=0.001)\n",
    "wasm_execution_span"
   ]
  },
  {
   "cell_type": "code",
   "execution_count": null,
   "metadata": {},
   "outputs": [],
   "source": [
    "other_span = compute_mean_std(launchtime_raw[\"Size\"], launchtime[\"OtherSpan\"], factor=0.001)\n",
    "other_span"
   ]
  },
  {
   "cell_type": "code",
   "execution_count": null,
   "metadata": {},
   "outputs": [],
   "source": [
    "# Draw the area plot\n",
    "area_plot_data = pd.DataFrame()\n",
    "area_plot_data[\"Transition\"] = transition_span[\"Mean\"]\n",
    "area_plot_data[\"Memory\"] = memory_span[\"Mean\"]\n",
    "area_plot_data[\"Hash\"] = hash_span[\"Mean\"]\n",
    "area_plot_data[\"WasmInit\"] = wasm_init_span[\"Mean\"]\n",
    "area_plot_data[\"WasmLoad\"] = wasm_load_span[\"Mean\"]\n",
    "area_plot_data[\"WasmInstantiate\"] = wasm_instantiate_span[\"Mean\"]\n",
    "area_plot_data[\"WasmExecution\"] = wasm_execution_span[\"Mean\"]\n",
    "\n",
    "area_plot_data.plot.bar(stacked=True) #.area()"
   ]
  },
  {
   "cell_type": "code",
   "execution_count": null,
   "metadata": {},
   "outputs": [],
   "source": [
    "#\n",
    "# Show the ratio of the elements\n",
    "#\n",
    "\n",
    "ratio = pd.DataFrame()\n",
    "ratio[\"Transition\"] = transition_span[\"Mean\"] / launch_span[\"Mean\"]\n",
    "ratio[\"Memory\"] = memory_span[\"Mean\"] / launch_span[\"Mean\"]\n",
    "ratio[\"Hash\"] = hash_span[\"Mean\"] / launch_span[\"Mean\"]\n",
    "ratio[\"WasmInit\"] = wasm_init_span[\"Mean\"] / launch_span[\"Mean\"]\n",
    "ratio[\"WasmLoad\"] = wasm_load_span[\"Mean\"] / launch_span[\"Mean\"]\n",
    "ratio[\"WasmInstantiate\"] = wasm_instantiate_span[\"Mean\"] / launch_span[\"Mean\"]\n",
    "ratio[\"WasmExecution\"] = wasm_execution_span[\"Mean\"] / launch_span[\"Mean\"]\n",
    "\n",
    "ratio"
   ]
  },
  {
   "cell_type": "code",
   "execution_count": null,
   "metadata": {},
   "outputs": [],
   "source": [
    "# Export CSV\n",
    "#\n",
    "# File format: experiment_name, mean, stddev\n",
    "\n",
    "transition_span.drop(columns=\"Size\").to_csv('../logs/launch-time/transition_formatted.csv')\n",
    "memory_span.drop(columns=\"Size\").to_csv('../logs/launch-time/memory_formatted.csv')\n",
    "hash_span.drop(columns=\"Size\").to_csv('../logs/launch-time/hash_formatted.csv')\n",
    "wasm_init_span.drop(columns=\"Size\").to_csv('../logs/launch-time/wasm_init_formatted.csv')\n",
    "wasm_load_span.drop(columns=\"Size\").to_csv('../logs/launch-time/wasm_load_formatted.csv')\n",
    "wasm_instantiate_span.drop(columns=\"Size\").to_csv('../logs/launch-time/wasm_instantiate_formatted.csv')\n",
    "wasm_execution_span.drop(columns=\"Size\").to_csv('../logs/launch-time/wasm_execution_formatted.csv')"
   ]
  },
  {
   "cell_type": "code",
   "execution_count": null,
   "metadata": {},
   "outputs": [],
   "source": [
    "# Export LaTeX\n",
    "\n",
    "ratio_median = ratio.median()\n",
    "prefix = \"LaunchTime\"\n",
    "\n",
    "def write_ratio(file, column_name, ratio):\n",
    "    f.write(f\"\\\\def\\\\bm{prefix}{column_name}Ratio{{{formatForLatex(ratio * 100)}}}\\n\")\n",
    "\n",
    "f = open('../logs/launch-time/export.tex', \"w\")\n",
    "write_ratio(f, \"WasmInit\", ratio_median[\"WasmInit\"])\n",
    "write_ratio(f, \"WasmLoad\", ratio_median[\"WasmLoad\"])\n",
    "write_ratio(f, \"Memory\", ratio_median[\"Memory\"])\n",
    "write_ratio(f, \"Hash\", ratio_median[\"Hash\"])\n",
    "f.close()"
   ]
  },
  {
   "cell_type": "code",
   "execution_count": null,
   "metadata": {},
   "outputs": [],
   "source": []
  }
 ],
 "metadata": {
  "kernelspec": {
   "display_name": "Python 3 (ipykernel)",
   "language": "python",
   "name": "python3"
  },
  "language_info": {
   "codemirror_mode": {
    "name": "ipython",
    "version": 3
   },
   "file_extension": ".py",
   "mimetype": "text/x-python",
   "name": "python",
   "nbconvert_exporter": "python",
   "pygments_lexer": "ipython3",
   "version": "3.9.5"
  }
 },
 "nbformat": 4,
 "nbformat_minor": 4
}
