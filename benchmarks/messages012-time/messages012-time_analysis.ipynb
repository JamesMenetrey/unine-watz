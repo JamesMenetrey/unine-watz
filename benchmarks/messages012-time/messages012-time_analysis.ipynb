{
 "cells": [
  {
   "cell_type": "code",
   "execution_count": null,
   "metadata": {},
   "outputs": [],
   "source": [
    "# Imports\n",
    "import matplotlib\n",
    "import matplotlib.pyplot as plt\n",
    "import numpy as np\n",
    "import pandas as pd\n",
    "from scipy import stats\n",
    "\n",
    "plt.rcParams['figure.figsize'] = (15.0, 8.0) # set default size of plots\n",
    "plt.rcParams['figure.facecolor'] = 'white'\n",
    "\n",
    "pd.set_option('display.max_rows', None)\n",
    "\n",
    "matplotlib.rcParams.update({'font.size': 15})"
   ]
  },
  {
   "cell_type": "code",
   "execution_count": null,
   "metadata": {},
   "outputs": [],
   "source": [
    "TIME_RETRIEVAL_REE = 0\n",
    "TIME_RETRIEVAL_TEE = 10\n",
    "TIME_RETRIEVAL_REE_WASM = 2\n",
    "TIME_RETRIEVAL_TEE_WASM = 18"
   ]
  },
  {
   "cell_type": "code",
   "execution_count": null,
   "metadata": {},
   "outputs": [],
   "source": [
    "def compute_mean_std(name, time):\n",
    "    return pd.DataFrame(\n",
    "        {\n",
    "            \"Name\": [name],\n",
    "            \"Mean\": [time.median()],\n",
    "            \"Std\": [time.std()]\n",
    "        }\n",
    "    )\n",
    "\n",
    "def empty_export_row(name):\n",
    "    return pd.DataFrame(\n",
    "        {\n",
    "            \"Name\": [name],\n",
    "            \"Mean\": [0],\n",
    "            \"Std\": [0]\n",
    "        }\n",
    "    )\n",
    "\n",
    "def formatForLatex(n, round_digits = 2):\n",
    "    roundedAsString = str(round(n, round_digits))\n",
    "    if \".\" in roundedAsString:\n",
    "        roundedAsString = roundedAsString.rstrip(\"0\")\n",
    "        roundedAsString = roundedAsString.rstrip(\".\")\n",
    "    return f\"{roundedAsString}\"\n",
    "\n",
    "def number_to_text(text):\n",
    "    return text.replace(\"0\", \"Zero\").replace(\"1\", \"One\").replace(\"2\", \"Two\")"
   ]
  },
  {
   "cell_type": "code",
   "execution_count": null,
   "metadata": {},
   "outputs": [],
   "source": [
    "#\n",
    "## Attester data\n",
    "#"
   ]
  },
  {
   "cell_type": "code",
   "execution_count": null,
   "metadata": {},
   "outputs": [],
   "source": [
    "# Import the dataset\n",
    "attester_columns = [\"QuoteStart\",\"QuoteEnd\",\"Message0MemStart\",\"Message0KeygenStart\",\"Message0KeygenEnd\", \\\n",
    "                   \"Message1MemStart\",\"Message1AsymCryptoStart\",\"Message1KeygenStart\",\"Message1SymCryptoStart\", \\\n",
    "                   \"Message1SymCryptoEnd\",\"Message2MemStart\",\"Message2SymCryptoStart\",\"Message2SymCryptoEnd\"]\n",
    "\n",
    "attester = pd.read_csv(\"../logs/messages012-time/messages012-attester.csv\", names = attester_columns)\n",
    "\n",
    "attester"
   ]
  },
  {
   "cell_type": "code",
   "execution_count": null,
   "metadata": {},
   "outputs": [],
   "source": [
    "# Summary of the gathered timespans\n",
    "attester_spans = pd.DataFrame()\n",
    "attester_spans[\"Quote\"] = attester[\"QuoteEnd\"] - attester[\"QuoteStart\"] \\\n",
    "                        - 2*TIME_RETRIEVAL_TEE/2\n",
    "\n",
    "attester_spans[\"Message0Mem\"] = attester[\"Message0KeygenStart\"] - attester[\"Message0MemStart\"] \\\n",
    "                        - 2*TIME_RETRIEVAL_TEE/2\n",
    "\n",
    "attester_spans[\"Message0Keygen\"] = attester[\"Message0KeygenEnd\"] - attester[\"Message0KeygenStart\"] \\\n",
    "                        - 2*TIME_RETRIEVAL_TEE/2\n",
    "\n",
    "attester_spans[\"Message1Mem\"] = attester[\"Message1AsymCryptoStart\"] - attester[\"Message1MemStart\"] \\\n",
    "                        - 2*TIME_RETRIEVAL_TEE/2\n",
    "\n",
    "attester_spans[\"Message1AsymCrypto\"] = attester[\"Message1KeygenStart\"] - attester[\"Message1AsymCryptoStart\"] \\\n",
    "                        - 2*TIME_RETRIEVAL_TEE/2\n",
    "\n",
    "attester_spans[\"Message1Keygen\"] = attester[\"Message1SymCryptoStart\"] - attester[\"Message1KeygenStart\"] \\\n",
    "                        - 2*TIME_RETRIEVAL_TEE/2\n",
    "\n",
    "attester_spans[\"Message1SymCrypto\"] = attester[\"Message1SymCryptoEnd\"] - attester[\"Message1SymCryptoStart\"] \\\n",
    "                        - 2*TIME_RETRIEVAL_TEE/2\n",
    "\n",
    "attester_spans[\"Message2Mem\"] = attester[\"Message2SymCryptoStart\"] - attester[\"Message2MemStart\"] \\\n",
    "                        - 2*TIME_RETRIEVAL_TEE/2\n",
    "\n",
    "attester_spans[\"Message2SymCrypto\"] = attester[\"Message2SymCryptoEnd\"] - attester[\"Message2SymCryptoStart\"] \\\n",
    "                        - 2*TIME_RETRIEVAL_TEE/2\n",
    "\n",
    "# We assign the execution time of the quote generation to the message2 (simpler summary for the paper)\n",
    "attester_spans[\"Message2AsymCrypto\"] = attester_spans[\"Quote\"]\n",
    "\n",
    "attester_spans"
   ]
  },
  {
   "cell_type": "code",
   "execution_count": null,
   "metadata": {
    "scrolled": true
   },
   "outputs": [],
   "source": [
    "attester_mem_export = pd.DataFrame()\n",
    "attester_mem_export = attester_mem_export.append(compute_mean_std(\"Message0\", attester_spans[\"Message0Mem\"]))\n",
    "attester_mem_export = attester_mem_export.append(compute_mean_std(\"Message1\", attester_spans[\"Message1Mem\"]))\n",
    "attester_mem_export = attester_mem_export.append(compute_mean_std(\"Message2\", attester_spans[\"Message2Mem\"]))\n",
    "attester_mem_export.set_index(\"Name\", inplace=True)\n",
    "\n",
    "attester_mem_export"
   ]
  },
  {
   "cell_type": "code",
   "execution_count": null,
   "metadata": {},
   "outputs": [],
   "source": [
    "attester_keygen_export = pd.DataFrame()\n",
    "attester_keygen_export = attester_keygen_export.append(compute_mean_std(\"Message0\", attester_spans[\"Message0Keygen\"]))\n",
    "attester_keygen_export = attester_keygen_export.append(compute_mean_std(\"Message1\", attester_spans[\"Message1Keygen\"]))\n",
    "attester_keygen_export = attester_keygen_export.append(empty_export_row(\"Message2\"))\n",
    "attester_keygen_export.set_index(\"Name\", inplace=True)\n",
    "\n",
    "attester_keygen_export"
   ]
  },
  {
   "cell_type": "code",
   "execution_count": null,
   "metadata": {},
   "outputs": [],
   "source": [
    "attester_asym_crypto_export = pd.DataFrame()\n",
    "attester_asym_crypto_export = attester_asym_crypto_export.append(empty_export_row(\"Message0\"))\n",
    "attester_asym_crypto_export = attester_asym_crypto_export.append(compute_mean_std(\"Message1\", attester_spans[\"Message1AsymCrypto\"]))\n",
    "attester_asym_crypto_export = attester_asym_crypto_export.append(compute_mean_std(\"Message2\", attester_spans[\"Message2AsymCrypto\"]))\n",
    "attester_asym_crypto_export.set_index(\"Name\", inplace=True)\n",
    "\n",
    "attester_asym_crypto_export"
   ]
  },
  {
   "cell_type": "code",
   "execution_count": null,
   "metadata": {},
   "outputs": [],
   "source": [
    "attester_sym_crypto_export = pd.DataFrame()\n",
    "attester_sym_crypto_export = attester_sym_crypto_export.append(empty_export_row(\"Message0\"))\n",
    "attester_sym_crypto_export = attester_sym_crypto_export.append(compute_mean_std(\"Message1\", attester_spans[\"Message1SymCrypto\"]))\n",
    "attester_sym_crypto_export = attester_sym_crypto_export.append(compute_mean_std(\"Message2\", attester_spans[\"Message2SymCrypto\"]))\n",
    "attester_sym_crypto_export.set_index(\"Name\", inplace=True)\n",
    "\n",
    "attester_sym_crypto_export"
   ]
  },
  {
   "cell_type": "code",
   "execution_count": null,
   "metadata": {},
   "outputs": [],
   "source": [
    "attester_sym_crypto_export[\"Mean\"].values"
   ]
  },
  {
   "cell_type": "code",
   "execution_count": null,
   "metadata": {},
   "outputs": [],
   "source": [
    "index = ['msg0', 'msg1', 'msg2']\n",
    "df = pd.DataFrame(\n",
    "    {\n",
    "        'mem': attester_mem_export[\"Mean\"].values,\n",
    "        'keygen': attester_keygen_export[\"Mean\"].values,\n",
    "        'asym': attester_asym_crypto_export[\"Mean\"].values,\n",
    "        'sym': attester_sym_crypto_export[\"Mean\"].values,\n",
    "    }, index=index)\n",
    "ax = df.plot.bar(rot=0)"
   ]
  },
  {
   "cell_type": "code",
   "execution_count": null,
   "metadata": {},
   "outputs": [],
   "source": [
    "#\n",
    "## Verifier data\n",
    "#"
   ]
  },
  {
   "cell_type": "code",
   "execution_count": null,
   "metadata": {},
   "outputs": [],
   "source": [
    "# Import the dataset\n",
    "verifier_columns = [\"Message0Keygen1Start\",\"Message0MemStart\",\"Message0Keygen2Start\",\"Message0Keygen2End\", \\\n",
    "                   \"Message1Mem1Start\",\"Message1AsymCryptoStart\",\"Message1SymCryptoStart\",\"Message1Mem2Start\", \\\n",
    "                   \"Message1Mem2End\",\"Message2Mem1Start\",\"Message2SymCryptoStart\", \"Message2Mem2Start\", \\\n",
    "                   \"Message2AsymCryptoStart\",\"Message2AsymCryptoEnd\"]\n",
    "\n",
    "verifier = pd.read_csv(\"../logs/messages012-time/messages012-verifier.csv\", names = verifier_columns)\n",
    "\n",
    "verifier"
   ]
  },
  {
   "cell_type": "code",
   "execution_count": null,
   "metadata": {},
   "outputs": [],
   "source": [
    "# Summary of the gathered timespans\n",
    "verifier_spans = pd.DataFrame()\n",
    "\n",
    "verifier_spans[\"Message0Keygen\"] = verifier[\"Message0MemStart\"] - verifier[\"Message0Keygen1Start\"] \\\n",
    "                        + verifier[\"Message0Keygen2End\"] - verifier[\"Message0Keygen2Start\"] \\\n",
    "                        - 4*TIME_RETRIEVAL_TEE/2\n",
    "\n",
    "verifier_spans[\"Message0Mem\"] = verifier[\"Message0Keygen2Start\"] - verifier[\"Message0MemStart\"] \\\n",
    "                        - 2*TIME_RETRIEVAL_TEE/2\n",
    "\n",
    "verifier_spans[\"Message1Mem\"] = verifier[\"Message1AsymCryptoStart\"] - verifier[\"Message1Mem1Start\"] \\\n",
    "                        + verifier[\"Message1Mem2End\"] - verifier[\"Message1Mem2Start\"] \\\n",
    "                        - 4*TIME_RETRIEVAL_TEE/2\n",
    "\n",
    "verifier_spans[\"Message1AsymCrypto\"] = verifier[\"Message1SymCryptoStart\"] - verifier[\"Message1AsymCryptoStart\"] \\\n",
    "                        - 2*TIME_RETRIEVAL_TEE/2\n",
    "\n",
    "verifier_spans[\"Message1SymCrypto\"] = verifier[\"Message1Mem2Start\"] - verifier[\"Message1SymCryptoStart\"] \\\n",
    "                        - 2*TIME_RETRIEVAL_TEE/2\n",
    "\n",
    "verifier_spans[\"Message2Mem\"] = verifier[\"Message2SymCryptoStart\"] - verifier[\"Message2Mem1Start\"] \\\n",
    "                        + verifier[\"Message2AsymCryptoStart\"] - verifier[\"Message2Mem2Start\"] \\\n",
    "                        - 4*TIME_RETRIEVAL_TEE/2\n",
    "\n",
    "verifier_spans[\"Message2SymCrypto\"] = verifier[\"Message2Mem2Start\"] - verifier[\"Message2SymCryptoStart\"] \\\n",
    "                        - 2*TIME_RETRIEVAL_TEE/2\n",
    "\n",
    "verifier_spans[\"Message2AsymCrypto\"] = verifier[\"Message2AsymCryptoEnd\"] - verifier[\"Message2AsymCryptoStart\"] \\\n",
    "                        - 2*TIME_RETRIEVAL_TEE/2\n",
    "\n",
    "verifier_spans"
   ]
  },
  {
   "cell_type": "code",
   "execution_count": null,
   "metadata": {},
   "outputs": [],
   "source": [
    "# Compute the mean and std\n",
    "verifier_mem_export = pd.DataFrame()\n",
    "verifier_mem_export = verifier_mem_export.append(compute_mean_std(\"Message0\", verifier_spans[\"Message0Mem\"]))\n",
    "verifier_mem_export = verifier_mem_export.append(compute_mean_std(\"Message1\", verifier_spans[\"Message1Mem\"]))\n",
    "verifier_mem_export = verifier_mem_export.append(compute_mean_std(\"Message2\", verifier_spans[\"Message2Mem\"]))\n",
    "verifier_mem_export.set_index(\"Name\", inplace=True)\n",
    "\n",
    "verifier_mem_export"
   ]
  },
  {
   "cell_type": "code",
   "execution_count": null,
   "metadata": {},
   "outputs": [],
   "source": [
    "verifier_keygen_export = pd.DataFrame()\n",
    "verifier_keygen_export = verifier_keygen_export.append(compute_mean_std(\"Message0\", verifier_spans[\"Message0Keygen\"]))\n",
    "verifier_keygen_export = verifier_keygen_export.append(empty_export_row(\"Message1\"))\n",
    "verifier_keygen_export = verifier_keygen_export.append(empty_export_row(\"Message2\"))\n",
    "verifier_keygen_export.set_index(\"Name\", inplace=True)\n",
    "\n",
    "verifier_keygen_export"
   ]
  },
  {
   "cell_type": "code",
   "execution_count": null,
   "metadata": {},
   "outputs": [],
   "source": [
    "verifier_sym_crypto_export = pd.DataFrame()\n",
    "verifier_sym_crypto_export = verifier_sym_crypto_export.append(empty_export_row(\"Message0\"))\n",
    "verifier_sym_crypto_export = verifier_sym_crypto_export.append(compute_mean_std(\"Message1\", verifier_spans[\"Message1SymCrypto\"]))\n",
    "verifier_sym_crypto_export = verifier_sym_crypto_export.append(compute_mean_std(\"Message2\", verifier_spans[\"Message2SymCrypto\"]))\n",
    "verifier_sym_crypto_export.set_index(\"Name\", inplace=True)\n",
    "\n",
    "verifier_sym_crypto_export"
   ]
  },
  {
   "cell_type": "code",
   "execution_count": null,
   "metadata": {},
   "outputs": [],
   "source": [
    "verifier_asym_crypto_export = pd.DataFrame()\n",
    "verifier_asym_crypto_export = verifier_asym_crypto_export.append(empty_export_row(\"Message0\"))\n",
    "verifier_asym_crypto_export = verifier_asym_crypto_export.append(compute_mean_std(\"Message1\", verifier_spans[\"Message1AsymCrypto\"]))\n",
    "verifier_asym_crypto_export = verifier_asym_crypto_export.append(compute_mean_std(\"Message2\", verifier_spans[\"Message2AsymCrypto\"]))\n",
    "verifier_asym_crypto_export.set_index(\"Name\", inplace=True)\n",
    "\n",
    "verifier_asym_crypto_export"
   ]
  },
  {
   "cell_type": "code",
   "execution_count": null,
   "metadata": {},
   "outputs": [],
   "source": [
    "index = ['msg0', 'msg1', 'msg2']\n",
    "df = pd.DataFrame(\n",
    "    {\n",
    "        'mem': verifier_mem_export[\"Mean\"].values,\n",
    "        'keygen': verifier_keygen_export[\"Mean\"].values,\n",
    "        'asym': verifier_asym_crypto_export[\"Mean\"].values,\n",
    "        'sym': verifier_sym_crypto_export[\"Mean\"].values,\n",
    "    }, index=index)\n",
    "ax = df.plot.bar(rot=0)"
   ]
  },
  {
   "cell_type": "code",
   "execution_count": null,
   "metadata": {},
   "outputs": [],
   "source": [
    "# Export CSV\n",
    "#\n",
    "# File format: message_id, mean, stddev\n",
    "\n",
    "attester_mem_export.to_csv('../logs/messages012-time/attester_mem_formatted.csv')\n",
    "attester_keygen_export.to_csv('../logs/messages012-time/attester_keygen_formatted.csv')\n",
    "attester_sym_crypto_export.to_csv('../logs/messages012-time/attester_sym_crypto_formatted.csv')\n",
    "attester_asym_crypto_export.to_csv('../logs/messages012-time/attester_asym_crypto_formatted.csv')\n",
    "\n",
    "verifier_mem_export.to_csv('../logs/messages012-time/verifier_mem_formatted.csv')\n",
    "verifier_keygen_export.to_csv('../logs/messages012-time/verifier_keygen_formatted.csv')\n",
    "verifier_sym_crypto_export.to_csv('../logs/messages012-time/verifier_sym_crypto_formatted.csv')\n",
    "verifier_asym_crypto_export.to_csv('../logs/messages012-time/verifier_asym_crypto_formatted.csv')"
   ]
  },
  {
   "cell_type": "code",
   "execution_count": null,
   "metadata": {},
   "outputs": [],
   "source": [
    "# Compute ratio for the paper\n",
    "\n",
    "message1_sym_crypto_time = verifier_sym_crypto_export.loc[verifier_sym_crypto_export.index == \"Message1\"][\"Mean\"].values[0]\n",
    "message1_asym_crypto_time = verifier_asym_crypto_export.loc[verifier_asym_crypto_export.index == \"Message1\"][\"Mean\"].values[0]\n",
    "message1_crypto_ratio = message1_asym_crypto_time / message1_sym_crypto_time"
   ]
  },
  {
   "cell_type": "code",
   "execution_count": null,
   "metadata": {},
   "outputs": [],
   "source": [
    "# Export LaTeX\n",
    "\n",
    "def export_to_latex(file, prefix, dataset):\n",
    "    for _, row in dataset.iterrows():\n",
    "        name = number_to_text(row.name)\n",
    "        mean = int(row[\"Mean\"])\n",
    "        std = int(row[\"Std\"])\n",
    "        file.write(f\"\\\\def\\\\bm{prefix}{name}MeanInMicrosec{{{mean:,}}}\\n\")\n",
    "        file.write(f\"\\\\def\\\\bm{prefix}{name}MeanInMs{{{formatForLatex(mean/1000,0)}}}\\n\")\n",
    "        #file.write(f\"\\\\def\\\\bm{prefix}{name}Stddev{{{std}}}\\n\")\n",
    "\n",
    "def write(file, name, number, digits_round):\n",
    "    f.write(f\"\\\\def\\\\bm{name}{{{formatForLatex(number, digits_round)}}}\\n\")\n",
    "        \n",
    "f = open(\"../logs/messages012-time/export.tex\", \"w\")\n",
    "export_to_latex(f, \"AttesterMem\", attester_mem_export)\n",
    "export_to_latex(f, \"AttesterKeygen\", attester_keygen_export)\n",
    "export_to_latex(f, \"AttesterSymCrypto\", attester_sym_crypto_export)\n",
    "export_to_latex(f, \"AttesterAsymCrypto\", attester_asym_crypto_export)\n",
    "export_to_latex(f, \"VerifierMem\", verifier_mem_export)\n",
    "export_to_latex(f, \"VerifierKeygen\", verifier_keygen_export)\n",
    "export_to_latex(f, \"VerifierSymCrypto\", verifier_sym_crypto_export)\n",
    "export_to_latex(f, \"VerifierAsymCrypto\", verifier_asym_crypto_export)\n",
    "write(f, number_to_text(\"Message1AsymVsSymRatio\"), message1_crypto_ratio ,0)\n",
    "f.close()"
   ]
  },
  {
   "cell_type": "code",
   "execution_count": null,
   "metadata": {},
   "outputs": [],
   "source": []
  }
 ],
 "metadata": {
  "kernelspec": {
   "display_name": "Python 3 (ipykernel)",
   "language": "python",
   "name": "python3"
  },
  "language_info": {
   "codemirror_mode": {
    "name": "ipython",
    "version": 3
   },
   "file_extension": ".py",
   "mimetype": "text/x-python",
   "name": "python",
   "nbconvert_exporter": "python",
   "pygments_lexer": "ipython3",
   "version": "3.9.6"
  }
 },
 "nbformat": 4,
 "nbformat_minor": 4
}
