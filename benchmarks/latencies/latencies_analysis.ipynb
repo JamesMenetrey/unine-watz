{
 "cells": [
  {
   "cell_type": "code",
   "execution_count": null,
   "metadata": {},
   "outputs": [],
   "source": [
    "# Imports\n",
    "import matplotlib\n",
    "import matplotlib.pyplot as plt\n",
    "import numpy as np\n",
    "import pandas as pd\n",
    "from scipy import stats\n",
    "\n",
    "plt.rcParams['figure.figsize'] = (15.0, 8.0) # set default size of plots\n",
    "plt.rcParams['figure.facecolor'] = 'white'\n",
    "\n",
    "pd.set_option('display.max_rows', None)\n",
    "\n",
    "matplotlib.rcParams.update({'font.size': 15})"
   ]
  },
  {
   "cell_type": "code",
   "execution_count": null,
   "metadata": {},
   "outputs": [],
   "source": [
    "def formatForLatex(n):\n",
    "    roundedAsString = str(round(n, 2))\n",
    "    if \".\" in roundedAsString:\n",
    "        roundedAsString = roundedAsString.rstrip(\"0\")\n",
    "        roundedAsString = roundedAsString.rstrip(\".\")\n",
    "    return f\"{roundedAsString}\""
   ]
  },
  {
   "cell_type": "code",
   "execution_count": null,
   "metadata": {},
   "outputs": [],
   "source": [
    "roundtrip_latencies = pd.read_csv(\"../logs/latencies/native-roundtrip.csv\", names = [\"Enter\", \"Leave\"])\n",
    "\n",
    "roundtrip_latencies_mean = roundtrip_latencies.median() #stats.gmean(roundtrip_latencies,axis=0)\n",
    "roundtrip_latencies_stddev = roundtrip_latencies.std()\n",
    "\n",
    "print(\"mean:\", roundtrip_latencies_mean, \"stddev\", roundtrip_latencies_stddev)"
   ]
  },
  {
   "cell_type": "code",
   "execution_count": null,
   "metadata": {},
   "outputs": [],
   "source": [
    "fig, ax = plt.subplots()\n",
    "ax.set_title('Roundtrip latencies')\n",
    "ax.set_ylabel('microseconds')\n",
    "\n",
    "ax.boxplot(roundtrip_latencies, labels = ['Enter', 'Leave'])\n",
    "plt.show()"
   ]
  },
  {
   "cell_type": "code",
   "execution_count": null,
   "metadata": {},
   "outputs": [],
   "source": [
    "time_latencies = pd.DataFrame()\n",
    "\n",
    "# Omitted because < 1 microsec\n",
    "#time_latencies[\"NativeCaTime\"] = pd.read_csv(\"../logs/latencies/native-catime.csv\", names = [\"time\"])\n",
    "#time_latencies[\"WasmCaTime\"] = pd.read_csv(\"../logs/latencies/wasm-catime.csv\", names = [\"time\"])\n",
    "time_latencies[\"NativeTaTime\"] = pd.read_csv(\"../logs/latencies/native-tatime.csv\", names = [\"time\"])\n",
    "time_latencies[\"WasmTaTime\"] = pd.read_csv(\"../logs/latencies/wasm-tatime.csv\", names = [\"time\"])\n",
    "\n",
    "time_latencies"
   ]
  },
  {
   "cell_type": "code",
   "execution_count": null,
   "metadata": {},
   "outputs": [],
   "source": [
    "time_latencies_mean = time_latencies.median() #stats.gmean(time_latencies,axis=0)\n",
    "time_latencies_stddev = time_latencies.std()\n",
    "\n",
    "time_latencies_mean"
   ]
  },
  {
   "cell_type": "code",
   "execution_count": null,
   "metadata": {},
   "outputs": [],
   "source": [
    "fig, ax = plt.subplots()\n",
    "ax.set_title('Time retrieval latencies')\n",
    "ax.set_ylabel('microseconds')\n",
    "\n",
    "ax.boxplot(time_latencies, labels = ['native-tee', 'wasm-tee'])\n",
    "plt.show()"
   ]
  },
  {
   "cell_type": "code",
   "execution_count": null,
   "metadata": {},
   "outputs": [],
   "source": [
    "# Export CSV\n",
    "#\n",
    "# Files generated:\n",
    "# - roundtrip_formatted.csv\n",
    "# - time_formatted.csv\n",
    "#\n",
    "# File format: experiment_name, mean, stddev\n",
    "\n",
    "def export_to_file(filename, dataset, dataset_mean, dataset_stddev):\n",
    "    file = pd.DataFrame(columns = [\"experiment_name\", \"mean\", \"stddev\"])\n",
    "    \n",
    "    i = 0\n",
    "    for column_name in dataset:\n",
    "        file.loc[i] = [column_name, dataset_mean[i], dataset_stddev[i]]\n",
    "        i += 1\n",
    "        \n",
    "    display(file)\n",
    "    file.to_csv(filename, index=False)\n",
    "    \n",
    "export_to_file('../logs/latencies/roundtrip_formatted.csv', roundtrip_latencies, \n",
    "                         roundtrip_latencies_mean, roundtrip_latencies_stddev)\n",
    "export_to_file('../logs/latencies/time_formatted.csv', time_latencies, \n",
    "                         time_latencies_mean, time_latencies_stddev)"
   ]
  },
  {
   "cell_type": "code",
   "execution_count": null,
   "metadata": {},
   "outputs": [],
   "source": [
    "# Export LaTeX\n",
    "\n",
    "def export_to_latex(filename, prefix, dataset, dataset_mean, dataset_stddev):\n",
    "    f = open(filename, \"w\")\n",
    "    \n",
    "    i = 0\n",
    "    for column_name in dataset:\n",
    "        f.write(f\"\\\\def\\\\bm{prefix}{column_name}Mean{{{formatForLatex(dataset_mean[i])}}}\\n\")\n",
    "        f.write(f\"\\\\def\\\\bm{prefix}{column_name}Stddev{{{formatForLatex(dataset_stddev[i])}}}\\n\")\n",
    "        i += 1\n",
    "    \n",
    "    f.close()\n",
    "\n",
    "export_to_latex('../logs/latencies/roundtrip.tex', 'LatenciesRoundtrip', roundtrip_latencies,\n",
    "                       roundtrip_latencies_mean, roundtrip_latencies_stddev)\n",
    "export_to_latex('../logs/latencies/time.tex', 'LatenciesTime', time_latencies, \n",
    "                         time_latencies_mean, time_latencies_stddev)"
   ]
  },
  {
   "cell_type": "code",
   "execution_count": null,
   "metadata": {},
   "outputs": [],
   "source": []
  }
 ],
 "metadata": {
  "kernelspec": {
   "display_name": "Python 3 (ipykernel)",
   "language": "python",
   "name": "python3"
  },
  "language_info": {
   "codemirror_mode": {
    "name": "ipython",
    "version": 3
   },
   "file_extension": ".py",
   "mimetype": "text/x-python",
   "name": "python",
   "nbconvert_exporter": "python",
   "pygments_lexer": "ipython3",
   "version": "3.9.5"
  }
 },
 "nbformat": 4,
 "nbformat_minor": 4
}
