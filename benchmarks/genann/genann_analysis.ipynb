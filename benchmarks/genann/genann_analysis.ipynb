{
 "cells": [
  {
   "cell_type": "code",
   "execution_count": null,
   "metadata": {},
   "outputs": [],
   "source": [
    "# Imports\n",
    "import matplotlib\n",
    "import matplotlib.pyplot as plt\n",
    "import numpy as np\n",
    "import pandas as pd\n",
    "from scipy import stats\n",
    "\n",
    "plt.rcParams['figure.figsize'] = (15.0, 8.0) # set default size of plots\n",
    "plt.rcParams['figure.facecolor'] = 'white'\n",
    "\n",
    "pd.set_option('display.max_rows', None)\n",
    "\n",
    "matplotlib.rcParams.update({'font.size': 15})"
   ]
  },
  {
   "cell_type": "code",
   "execution_count": null,
   "metadata": {},
   "outputs": [],
   "source": [
    "TIME_RETRIEVAL_REE = 0\n",
    "TIME_RETRIEVAL_TEE = 10\n",
    "TIME_RETRIEVAL_REE_WASM = 2\n",
    "TIME_RETRIEVAL_TEE_WASM = 18"
   ]
  },
  {
   "cell_type": "code",
   "execution_count": null,
   "metadata": {},
   "outputs": [],
   "source": [
    "def compute_mean_std(size, time):\n",
    "    df = pd.DataFrame(columns = [\"Size\",\"Time\"])\n",
    "    df[\"Size\"] = size\n",
    "    df[\"Time\"] = time\n",
    "    \n",
    "    result = pd.DataFrame(columns = [\"Mean\",\"Std\"])\n",
    "    result[\"Mean\"] = df.groupby(\"Size\")[\"Time\"].median() #df.groupby(\"Size\")[\"Time\"].apply(stats.gmean)\n",
    "    result[\"Std\"] = df.groupby(\"Size\")[\"Time\"].std() #df.groupby(\"Size\")[\"Time\"].apply(stats.gstd)\n",
    "    #result[\"Size\"] = df.groupby(\"Size\").groups.keys()\n",
    "    \n",
    "    return result\n",
    "\n",
    "def compute_mean_std_BAK(name, time):\n",
    "    return pd.DataFrame(\n",
    "        {\n",
    "            \"Name\": [name],\n",
    "            \"Mean\": [time.median()],\n",
    "            \"Std\": [time.std()]\n",
    "        }\n",
    "    )\n",
    "\n",
    "def formatForLatex(n, digits_round):\n",
    "    roundedAsString = str(f\"{round(n, digits_round):,}\")\n",
    "    if \".\" in roundedAsString:\n",
    "        roundedAsString = roundedAsString.rstrip(\"0\")\n",
    "        roundedAsString = roundedAsString.rstrip(\".\")\n",
    "    return f\"{roundedAsString}\""
   ]
  },
  {
   "cell_type": "code",
   "execution_count": null,
   "metadata": {},
   "outputs": [],
   "source": [
    "#\n",
    "## REE data\n",
    "#"
   ]
  },
  {
   "cell_type": "code",
   "execution_count": null,
   "metadata": {},
   "outputs": [],
   "source": [
    "# Import the dataset\n",
    "ree = pd.read_csv(\"../logs/genann/ree.csv\", \\\n",
    "        names = [\"Size\",\"ImportFile\",\"LoadData\",\"Training\",\"Predict\",\"IsValid\",\"Error\"])\n",
    "\n",
    "# Remove erroneous entries\n",
    "ree = ree[ree['IsValid'] == 1].drop(columns = [\"IsValid\", \"Error\"])\n",
    "ree"
   ]
  },
  {
   "cell_type": "code",
   "execution_count": null,
   "metadata": {},
   "outputs": [],
   "source": [
    "# Summary of the gathered timespans\n",
    "ree_spans = pd.DataFrame()\n",
    "\n",
    "ree_spans[\"Size\"] = ree[\"Size\"]\n",
    "ree_spans[\"ImportFile\"] = ree[\"ImportFile\"] - 2*TIME_RETRIEVAL_REE_WASM/2\n",
    "ree_spans[\"LoadData\"] = ree[\"LoadData\"] - 2*TIME_RETRIEVAL_REE_WASM/2\n",
    "ree_spans[\"Training\"] = ree[\"Training\"] - 2*TIME_RETRIEVAL_REE_WASM/2\n",
    "ree_spans[\"Predict\"] = ree[\"Predict\"] - 2*TIME_RETRIEVAL_REE_WASM/2\n",
    "\n",
    "ree_spans"
   ]
  },
  {
   "cell_type": "code",
   "execution_count": null,
   "metadata": {},
   "outputs": [],
   "source": [
    "# Compute the mean and std\n",
    "def microsec_to_sec(df):\n",
    "    return df / 1000 / 1000\n",
    "\n",
    "ree_exports = {}\n",
    "ree_exports[\"ImportFile\"] = compute_mean_std(ree_spans[\"Size\"], ree_spans[\"ImportFile\"])\n",
    "ree_exports[\"LoadData\"] = compute_mean_std(ree_spans[\"Size\"], ree_spans[\"LoadData\"])\n",
    "ree_exports[\"Training\"] = microsec_to_sec(compute_mean_std(ree_spans[\"Size\"], ree_spans[\"Training\"]))\n",
    "ree_exports[\"Predict\"] = compute_mean_std(ree_spans[\"Size\"], ree_spans[\"Predict\"])\n",
    "ree_exports"
   ]
  },
  {
   "cell_type": "code",
   "execution_count": null,
   "metadata": {},
   "outputs": [],
   "source": [
    "#\n",
    "## TEE data\n",
    "#"
   ]
  },
  {
   "cell_type": "code",
   "execution_count": null,
   "metadata": {},
   "outputs": [],
   "source": [
    "# Import the datasets\n",
    "# Import the dataset\n",
    "tee_columns = [\"Size\",\"CollectQuote\",\"NetHandshake\",\"SendQuote\",\"ReceiveData\",\"LoadData\", \\\n",
    "               \"Training\",\"Predict\",\"IsValid\",\"Error\"]\n",
    "tee = pd.read_csv(\"../logs/genann/tee.csv\", names = tee_columns)\n",
    "\n",
    "# Remove erroneous entries\n",
    "tee = tee[tee['IsValid'] == 1].drop(columns = [\"IsValid\", \"Error\"])\n",
    "tee"
   ]
  },
  {
   "cell_type": "code",
   "execution_count": null,
   "metadata": {},
   "outputs": [],
   "source": [
    "# Summary of the gathered timespans\n",
    "tee_spans = pd.DataFrame()\n",
    "\n",
    "tee_spans[\"Size\"] = tee[\"Size\"]\n",
    "tee_spans[\"CollectQuote\"] = tee[\"CollectQuote\"] - 2*TIME_RETRIEVAL_TEE_WASM/2\n",
    "tee_spans[\"NetHandshake\"] = tee[\"NetHandshake\"] - 2*TIME_RETRIEVAL_TEE_WASM/2\n",
    "tee_spans[\"SendQuote\"] = tee[\"SendQuote\"] - 2*TIME_RETRIEVAL_TEE_WASM/2\n",
    "tee_spans[\"ReceiveData\"] = tee[\"ReceiveData\"] - 2*TIME_RETRIEVAL_TEE_WASM/2\n",
    "tee_spans[\"LoadData\"] = tee[\"LoadData\"] - 2*TIME_RETRIEVAL_TEE_WASM/2\n",
    "tee_spans[\"Training\"] = tee[\"Training\"] - 2*TIME_RETRIEVAL_TEE_WASM/2\n",
    "tee_spans[\"Predict\"] = tee[\"Predict\"] - 2*TIME_RETRIEVAL_TEE_WASM/2\n",
    "\n",
    "tee_spans"
   ]
  },
  {
   "cell_type": "code",
   "execution_count": null,
   "metadata": {},
   "outputs": [],
   "source": [
    "# Compute the mean and std\n",
    "tee_exports = {}\n",
    "tee_exports[\"CollectQuote\"] = compute_mean_std(tee_spans[\"Size\"], tee_spans[\"CollectQuote\"])\n",
    "tee_exports[\"NetHandshake\"] = compute_mean_std(tee_spans[\"Size\"], tee_spans[\"NetHandshake\"])\n",
    "tee_exports[\"SendQuote\"] = compute_mean_std(tee_spans[\"Size\"], tee_spans[\"SendQuote\"])\n",
    "tee_exports[\"ReceiveData\"] = compute_mean_std(tee_spans[\"Size\"], tee_spans[\"ReceiveData\"])\n",
    "tee_exports[\"LoadData\"] = compute_mean_std(tee_spans[\"Size\"], tee_spans[\"LoadData\"])\n",
    "tee_exports[\"Training\"] = microsec_to_sec(compute_mean_std(tee_spans[\"Size\"], tee_spans[\"Training\"]))\n",
    "tee_exports[\"Predict\"] = compute_mean_std(tee_spans[\"Size\"], tee_spans[\"Predict\"])\n",
    "tee_exports"
   ]
  },
  {
   "cell_type": "code",
   "execution_count": null,
   "metadata": {},
   "outputs": [],
   "source": [
    "# Draw the comparison of REE/TEE execution time plot\n",
    "\n",
    "ree_bar = ree_exports[\"Training\"][\"Mean\"]\n",
    "tee_bar = tee_exports[\"Training\"][\"Mean\"]\n",
    "df = pd.DataFrame({'REE': ree_bar,\n",
    "                   'TEE': tee_bar}, index=ree_exports[\"Training\"].index)\n",
    "ax = df.plot.bar(rot=0) # .line()"
   ]
  },
  {
   "cell_type": "code",
   "execution_count": null,
   "metadata": {},
   "outputs": [],
   "source": [
    "df = pd.DataFrame(\n",
    "    {\n",
    "        'CollectQuote': tee_exports[\"CollectQuote\"][\"Mean\"],\n",
    "        'NetHandshake': tee_exports[\"NetHandshake\"][\"Mean\"],\n",
    "        'SendQuote': tee_exports[\"SendQuote\"][\"Mean\"],\n",
    "        'ReceiveData': tee_exports[\"ReceiveData\"][\"Mean\"]\n",
    "    },\n",
    "    index=ree_exports[\"Training\"].index)\n",
    "ax = df.plot.bar(rot=0, stacked=True)"
   ]
  },
  {
   "cell_type": "code",
   "execution_count": null,
   "metadata": {},
   "outputs": [],
   "source": [
    "df = pd.DataFrame(\n",
    "    {\n",
    "        'ReceiveData': tee_exports[\"ReceiveData\"][\"Mean\"]\n",
    "    },\n",
    "    index=ree_exports[\"Training\"].index)\n",
    "ax = df.plot.bar(rot=0)"
   ]
  },
  {
   "cell_type": "code",
   "execution_count": null,
   "metadata": {},
   "outputs": [],
   "source": [
    "# Export CSV\n",
    "#\n",
    "# File format: size, mean, stddev\n",
    "\n",
    "for key, value in ree_exports.items():\n",
    "    value.to_csv(f\"../logs/genann/ree_{key}.csv\")\n",
    "\n",
    "for key, value in tee_exports.items():\n",
    "    value.to_csv(f\"../logs/genann/tee_{key}.csv\")"
   ]
  },
  {
   "cell_type": "code",
   "execution_count": null,
   "metadata": {},
   "outputs": [],
   "source": [
    "# Compute values for the paper\n",
    "\n",
    "tee_collect_quote_mean = tee_exports[\"CollectQuote\"][\"Mean\"].mean()\n",
    "tee_collect_quote_std = tee_exports[\"CollectQuote\"][\"Std\"].mean()\n",
    "tee_net_handshake_mean = tee_exports[\"NetHandshake\"][\"Mean\"].mean()\n",
    "tee_net_handshake_std = tee_exports[\"NetHandshake\"][\"Std\"].mean()\n",
    "tee_send_quote_mean = tee_exports[\"SendQuote\"][\"Mean\"].mean()\n",
    "tee_send_quote_std = tee_exports[\"SendQuote\"][\"Std\"].mean()\n",
    "\n",
    "tee_receive_data_min_mean = tee_exports[\"ReceiveData\"].loc[tee_exports[\"ReceiveData\"].index == 100][\"Mean\"].values[0]\n",
    "tee_receive_data_min_std = tee_exports[\"ReceiveData\"].loc[tee_exports[\"ReceiveData\"].index == 100][\"Std\"].values[0]\n",
    "tee_receive_data_max_mean = tee_exports[\"ReceiveData\"].loc[tee_exports[\"ReceiveData\"].index == 1000][\"Mean\"].values[0]\n",
    "tee_receive_data_max_std = tee_exports[\"ReceiveData\"].loc[tee_exports[\"ReceiveData\"].index == 1000][\"Std\"].values[0]\n",
    "\n",
    "\n",
    "tee_sum_of_wasi_ra_min_in_microsec = round(tee_collect_quote_mean,0) + round(tee_net_handshake_mean,0) \\\n",
    "                                          + round(tee_send_quote_mean,0) + round(tee_receive_data_min_mean,0)\n",
    "tee_sum_of_wasi_ra_max_in_microsec = round(tee_collect_quote_mean,0) + round(tee_net_handshake_mean,0) \\\n",
    "                                          + round(tee_send_quote_mean,0) + round(tee_receive_data_max_mean,0)\n",
    "\n",
    "tee_sum_of_wasi_ra_without_data_in_microsec = tee_collect_quote_mean + tee_net_handshake_mean \\\n",
    "                                          + tee_send_quote_mean\n",
    "\n",
    "training_slowdown = (tee_exports[\"Training\"][\"Mean\"] / ree_exports[\"Training\"][\"Mean\"]).median()"
   ]
  },
  {
   "cell_type": "code",
   "execution_count": null,
   "metadata": {},
   "outputs": [],
   "source": [
    "prefix = \"Genann\"\n",
    "\n",
    "def write(file, name, number, digits_round = 0):\n",
    "    f.write(f\"\\\\def\\\\bm{prefix}{name}{{{formatForLatex(number, digits_round)}}}\\n\")\n",
    "        \n",
    "f = open(\"../logs/genann/export.tex\", \"w\")\n",
    "write(f, \"CollectQuoteMean\", tee_collect_quote_mean / 1000)\n",
    "#write(f, \"CollectQuoteStd\", tee_collect_quote_std)\n",
    "write(f, \"NetHandshakeMean\", tee_net_handshake_mean / 1000 ** 2, 2)\n",
    "#write(f, \"NetHandshakeStd\", tee_net_handshake_std)\n",
    "write(f, \"SendQuoteMean\", tee_send_quote_mean / 1000)\n",
    "#write(f, \"SendQuoteStd\", tee_send_quote_std)\n",
    "write(f, \"SumOfWasiRaMin\", tee_sum_of_wasi_ra_min_in_microsec / 1000 ** 2, 2)\n",
    "#write(f, \"SumOfWasiRaMaxInMicrosec\", tee_sum_of_wasi_ra_max_in_microsec)\n",
    "write(f, \"SumOfWasiRaMax\", tee_sum_of_wasi_ra_max_in_microsec / 1000 ** 2, 2)\n",
    "#write(f, \"SumOfWasiRaWithoutDataInMicrosec\", tee_sum_of_wasi_ra_without_data_in_microsec)\n",
    "write(f, \"SumOfWasiRaWithoutData\", tee_sum_of_wasi_ra_without_data_in_microsec / 1000 ** 2, 2)\n",
    "write(f, \"ReceiveDataMinMeanInMicrosec\", tee_receive_data_min_mean)\n",
    "write(f, \"ReceiveDataMinStdInMicrosec\", tee_receive_data_min_std)\n",
    "write(f, \"ReceiveDataMaxMeanInMicrosec\", tee_receive_data_max_mean)\n",
    "write(f, \"ReceiveDataMaxStdInMicrosec\", tee_receive_data_max_std)\n",
    "write(f, \"ReceiveDataMinMeanInMs\", tee_receive_data_min_mean / 1000, 0)\n",
    "write(f, \"ReceiveDataMaxMeanInMs\", tee_receive_data_max_mean / 1000, 0)\n",
    "write(f, \"TrainingSlowdown\", training_slowdown, 3)\n",
    "write(f, \"TrainingSpeedUpPercent\", (1 - training_slowdown) * 100, 1)\n",
    "f.close()"
   ]
  },
  {
   "cell_type": "code",
   "execution_count": null,
   "metadata": {},
   "outputs": [],
   "source": []
  }
 ],
 "metadata": {
  "kernelspec": {
   "display_name": "Python 3 (ipykernel)",
   "language": "python",
   "name": "python3"
  },
  "language_info": {
   "codemirror_mode": {
    "name": "ipython",
    "version": 3
   },
   "file_extension": ".py",
   "mimetype": "text/x-python",
   "name": "python",
   "nbconvert_exporter": "python",
   "pygments_lexer": "ipython3",
   "version": "3.9.6"
  }
 },
 "nbformat": 4,
 "nbformat_minor": 4
}
