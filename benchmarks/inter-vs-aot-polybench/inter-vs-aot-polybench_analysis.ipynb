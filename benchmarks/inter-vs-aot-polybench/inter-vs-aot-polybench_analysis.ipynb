{
 "cells": [
  {
   "cell_type": "code",
   "execution_count": null,
   "metadata": {},
   "outputs": [],
   "source": [
    "# Imports\n",
    "import matplotlib\n",
    "import matplotlib.pyplot as plt\n",
    "import numpy as np\n",
    "import pandas as pd\n",
    "from scipy import stats\n",
    "\n",
    "plt.rcParams['figure.figsize'] = (15.0, 8.0) # set default size of plots\n",
    "plt.rcParams['figure.facecolor'] = 'white'\n",
    "\n",
    "pd.set_option('display.max_rows', None)\n",
    "\n",
    "matplotlib.rcParams.update({'font.size': 15})"
   ]
  },
  {
   "cell_type": "code",
   "execution_count": null,
   "metadata": {},
   "outputs": [],
   "source": [
    "TIME_RETRIEVAL_REE = 0\n",
    "TIME_RETRIEVAL_TEE = 10\n",
    "TIME_RETRIEVAL_REE_WASM = 0\n",
    "TIME_RETRIEVAL_TEE_WASM = 13"
   ]
  },
  {
   "cell_type": "code",
   "execution_count": null,
   "metadata": {},
   "outputs": [],
   "source": [
    "def compute_mean_std(name, time):\n",
    "    df = pd.DataFrame(columns = [\"Name\",\"Time\"])\n",
    "    df[\"Name\"] = name\n",
    "    df[\"Time\"] = time\n",
    "    \n",
    "    result = pd.DataFrame(columns = [\"Mean\",\"Std\"])\n",
    "    result[\"Mean\"] = df.groupby(\"Name\")[\"Time\"].median() #df.groupby(\"Size\")[\"Time\"].apply(stats.gmean)\n",
    "    result[\"Std\"] = df.groupby(\"Name\")[\"Time\"].std() #df.groupby(\"Size\")[\"Time\"].apply(stats.gstd)\n",
    "    \n",
    "    return result\n",
    "\n",
    "def formatForLatex(n, digits_round = 3):\n",
    "    roundedAsString = str(round(n, digits_round))\n",
    "    if \".\" in roundedAsString:\n",
    "        roundedAsString = roundedAsString.rstrip(\"0\")\n",
    "        roundedAsString = roundedAsString.rstrip(\".\")\n",
    "    return f\"{roundedAsString}\""
   ]
  },
  {
   "cell_type": "code",
   "execution_count": null,
   "metadata": {},
   "outputs": [],
   "source": [
    "#\n",
    "## TEE (interpreter) dataset\n",
    "#"
   ]
  },
  {
   "cell_type": "code",
   "execution_count": null,
   "metadata": {},
   "outputs": [],
   "source": [
    "# Import the dataset\n",
    "tee_inter_raw = pd.read_csv(\"../logs/polybench/tee-inter.csv\", names = [\"Name\",\"Time\"])\n",
    "tee_inter_raw[\"Name\"] = tee_inter_raw[\"Name\"].str.replace(\".wasm\", \"\")\n",
    "\n",
    "tee_inter_raw"
   ]
  },
  {
   "cell_type": "code",
   "execution_count": null,
   "metadata": {},
   "outputs": [],
   "source": [
    "# Adapt the time according the retrieval of the time\n",
    "tee_inter = tee_inter_raw\n",
    "\n",
    "tee_inter[\"Time\"] = tee_inter[\"Time\"] - 2*TIME_RETRIEVAL_TEE_WASM/2\n",
    "\n",
    "tee_inter"
   ]
  },
  {
   "cell_type": "code",
   "execution_count": null,
   "metadata": {},
   "outputs": [],
   "source": [
    "#\n",
    "## TEE (AoT) dataset\n",
    "#"
   ]
  },
  {
   "cell_type": "code",
   "execution_count": null,
   "metadata": {},
   "outputs": [],
   "source": [
    "# Import the dataset\n",
    "tee_aot_raw = pd.read_csv(\"../logs/polybench/tee-aot.csv\", names = [\"Name\",\"Time\"])\n",
    "tee_aot_raw[\"Name\"] = tee_aot_raw[\"Name\"].str.replace(\".aot\", \"\")\n",
    "\n",
    "tee_aot_raw.drop(tee_aot_raw.index[len(tee_inter.index):], inplace = True)\n",
    "\n",
    "tee_aot_raw"
   ]
  },
  {
   "cell_type": "code",
   "execution_count": null,
   "metadata": {},
   "outputs": [],
   "source": [
    "# Adapt the time according the retrieval of the time\n",
    "tee_aot = tee_aot_raw\n",
    "\n",
    "tee_aot[\"Time\"] = tee_aot[\"Time\"] - 2*TIME_RETRIEVAL_TEE_WASM/2\n",
    "\n",
    "tee_aot"
   ]
  },
  {
   "cell_type": "code",
   "execution_count": null,
   "metadata": {},
   "outputs": [],
   "source": [
    "#\n",
    "## Export\n",
    "#"
   ]
  },
  {
   "cell_type": "code",
   "execution_count": null,
   "metadata": {},
   "outputs": [],
   "source": [
    "# Normalize the results based on REE (AoT) time\n",
    "tee_inter_normalized = pd.DataFrame()\n",
    "tee_aot_normalized = pd.DataFrame()\n",
    "\n",
    "for col in tee_aot:\n",
    "    if col == \"Name\":\n",
    "        tee_inter_normalized[col] = tee_inter[col]\n",
    "        tee_aot_normalized[col] = tee_aot[col]\n",
    "    else:\n",
    "        tee_inter_normalized[col] = tee_inter[col] / tee_aot[col]\n",
    "        tee_aot_normalized[col] = 1\n",
    "    \n",
    "tee_inter_normalized"
   ]
  },
  {
   "cell_type": "code",
   "execution_count": null,
   "metadata": {},
   "outputs": [],
   "source": [
    "# Compute the mean and std\n",
    "tee_inter_vs_aot_export = pd.DataFrame()\n",
    "\n",
    "tee_inter_vs_aot_export = tee_inter_vs_aot_export.append(compute_mean_std(tee_inter_normalized[\"Name\"], tee_inter_normalized[\"Time\"]))\n",
    "tee_inter_vs_aot_export"
   ]
  },
  {
   "cell_type": "code",
   "execution_count": null,
   "metadata": {},
   "outputs": [],
   "source": [
    "#\n",
    "## Temp visualisation\n",
    "#"
   ]
  },
  {
   "cell_type": "code",
   "execution_count": null,
   "metadata": {
    "scrolled": true
   },
   "outputs": [],
   "source": [
    "df = pd.DataFrame({'interpreter': tee_inter_export[\"Mean\"],\n",
    "                   'AoT': tee_aot_export[\"Mean\"]}, index=tee_aot_export.index.values)\n",
    "ax = df.plot.bar()\n",
    "ax.set_ylim(0.9,200)"
   ]
  },
  {
   "cell_type": "code",
   "execution_count": null,
   "metadata": {},
   "outputs": [],
   "source": [
    "tee_inter_mean_of_mean = tee_inter_export[\"Mean\"].median()\n",
    "tee_inter_mean_of_mean"
   ]
  },
  {
   "cell_type": "code",
   "execution_count": null,
   "metadata": {},
   "outputs": [],
   "source": [
    "# Export CSV\n",
    "#\n",
    "# File format: experiment_name, mean, stddev\n",
    "\n",
    "tee_inter_vs_aot_export.to_csv('../logs/polybench/inter-vs-aot.csv')"
   ]
  },
  {
   "cell_type": "code",
   "execution_count": 39,
   "metadata": {},
   "outputs": [],
   "source": [
    "# Export LaTeX\n",
    "\n",
    "prefix = \"InterVsAot\"\n",
    "\n",
    "def write(file, column_name, number, digits_round = 3):\n",
    "    f.write(f\"\\\\def\\\\bm{prefix}{column_name}{{{formatForLatex(number, digits_round)}}}\\n\")\n",
    "\n",
    "f = open('../logs/polybench/inter-vs-aot-export.tex', \"w\")\n",
    "write(f, \"GlobalSpeedUp\", tee_inter_mean_of_mean, 0)\n",
    "f.close()"
   ]
  },
  {
   "cell_type": "code",
   "execution_count": null,
   "metadata": {},
   "outputs": [],
   "source": []
  }
 ],
 "metadata": {
  "kernelspec": {
   "display_name": "Python 3 (ipykernel)",
   "language": "python",
   "name": "python3"
  },
  "language_info": {
   "codemirror_mode": {
    "name": "ipython",
    "version": 3
   },
   "file_extension": ".py",
   "mimetype": "text/x-python",
   "name": "python",
   "nbconvert_exporter": "python",
   "pygments_lexer": "ipython3",
   "version": "3.9.5"
  }
 },
 "nbformat": 4,
 "nbformat_minor": 4
}
