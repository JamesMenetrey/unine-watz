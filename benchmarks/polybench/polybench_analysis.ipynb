{
 "cells": [
  {
   "cell_type": "code",
   "execution_count": null,
   "metadata": {},
   "outputs": [],
   "source": [
    "# Imports\n",
    "import matplotlib\n",
    "import matplotlib.pyplot as plt\n",
    "import numpy as np\n",
    "import pandas as pd\n",
    "from scipy import stats\n",
    "\n",
    "plt.rcParams['figure.figsize'] = (15.0, 8.0) # set default size of plots\n",
    "plt.rcParams['figure.facecolor'] = 'white'\n",
    "\n",
    "pd.set_option('display.max_rows', None)\n",
    "\n",
    "matplotlib.rcParams.update({'font.size': 15})"
   ]
  },
  {
   "cell_type": "code",
   "execution_count": null,
   "metadata": {},
   "outputs": [],
   "source": [
    "TIME_RETRIEVAL_REE = 0\n",
    "TIME_RETRIEVAL_TEE = 10\n",
    "TIME_RETRIEVAL_REE_WASM = 0\n",
    "TIME_RETRIEVAL_TEE_WASM = 13"
   ]
  },
  {
   "cell_type": "code",
   "execution_count": null,
   "metadata": {},
   "outputs": [],
   "source": [
    "def compute_mean_std(name, time):\n",
    "    df = pd.DataFrame(columns = [\"Name\",\"Time\"])\n",
    "    df[\"Name\"] = name\n",
    "    df[\"Time\"] = time\n",
    "    \n",
    "    result = pd.DataFrame(columns = [\"Mean\",\"Std\"])\n",
    "    result[\"Mean\"] = df.groupby(\"Name\")[\"Time\"].median() #df.groupby(\"Size\")[\"Time\"].apply(stats.gmean)\n",
    "    result[\"Std\"] = df.groupby(\"Name\")[\"Time\"].std() #df.groupby(\"Size\")[\"Time\"].apply(stats.gstd)\n",
    "    \n",
    "    return result\n",
    "\n",
    "def formatForLatex(n, digits_round = 3):\n",
    "    roundedAsString = str(round(n, digits_round))\n",
    "    if \".\" in roundedAsString:\n",
    "        roundedAsString = roundedAsString.rstrip(\"0\")\n",
    "        roundedAsString = roundedAsString.rstrip(\".\")\n",
    "    return f\"{roundedAsString}\""
   ]
  },
  {
   "cell_type": "code",
   "execution_count": null,
   "metadata": {},
   "outputs": [],
   "source": [
    "#\n",
    "## REE (Native) dataset\n",
    "#"
   ]
  },
  {
   "cell_type": "code",
   "execution_count": null,
   "metadata": {},
   "outputs": [],
   "source": [
    "# Import the dataset\n",
    "ree_native_raw = pd.read_csv(\"../logs/polybench/ree-native.csv\", names = [\"Name\",\"Time\"])\n",
    "ree_native_raw[\"Name\"] = ree_native_raw[\"Name\"].str.replace(\".aot\", \"\")\n",
    "\n",
    "ree_native_raw"
   ]
  },
  {
   "cell_type": "code",
   "execution_count": null,
   "metadata": {},
   "outputs": [],
   "source": [
    "# Adapt the time according the retrieval of the time\n",
    "ree_native = ree_native_raw\n",
    "\n",
    "ree_native[\"Time\"] = ree_native[\"Time\"] - 2*TIME_RETRIEVAL_REE/2\n",
    "\n",
    "ree_native"
   ]
  },
  {
   "cell_type": "code",
   "execution_count": null,
   "metadata": {},
   "outputs": [],
   "source": [
    "#\n",
    "## REE (Wasm) dataset\n",
    "#"
   ]
  },
  {
   "cell_type": "code",
   "execution_count": null,
   "metadata": {},
   "outputs": [],
   "source": [
    "# Import the dataset\n",
    "ree_wasm_raw = pd.read_csv(\"../logs/polybench/ree-wasm.csv\", names = [\"Name\",\"Time\"])\n",
    "ree_wasm_raw[\"Name\"] = ree_wasm_raw[\"Name\"].str.replace(\".aot\", \"\")\n",
    "\n",
    "ree_wasm_raw"
   ]
  },
  {
   "cell_type": "code",
   "execution_count": null,
   "metadata": {},
   "outputs": [],
   "source": [
    "# Adapt the time according the retrieval of the time\n",
    "ree_wasm = ree_wasm_raw\n",
    "\n",
    "ree_wasm[\"Time\"] = ree_wasm[\"Time\"] - 2*TIME_RETRIEVAL_REE_WASM/2\n",
    "\n",
    "ree_wasm"
   ]
  },
  {
   "cell_type": "code",
   "execution_count": null,
   "metadata": {},
   "outputs": [],
   "source": [
    "#\n",
    "## TEE dataset\n",
    "#"
   ]
  },
  {
   "cell_type": "code",
   "execution_count": null,
   "metadata": {},
   "outputs": [],
   "source": [
    "# Import the dataset\n",
    "tee_raw = pd.read_csv(\"../logs/polybench/tee.csv\", names = [\"Name\",\"Time\"])\n",
    "tee_raw[\"Name\"] = tee_raw[\"Name\"].str.replace(\".aot\", \"\")\n",
    "\n",
    "tee_raw"
   ]
  },
  {
   "cell_type": "code",
   "execution_count": null,
   "metadata": {},
   "outputs": [],
   "source": [
    "# Adapt the time according the retrieval of the time\n",
    "tee = tee_raw\n",
    "\n",
    "tee[\"Time\"] = tee[\"Time\"] - 2*TIME_RETRIEVAL_TEE_WASM/2\n",
    "\n",
    "tee"
   ]
  },
  {
   "cell_type": "code",
   "execution_count": null,
   "metadata": {},
   "outputs": [],
   "source": [
    "#\n",
    "## Export\n",
    "#"
   ]
  },
  {
   "cell_type": "code",
   "execution_count": null,
   "metadata": {},
   "outputs": [],
   "source": [
    "# Shorten the names of the experiments\n",
    "short_names = {\n",
    "    \"adi\": \"adi\",\n",
    "    \"gramschmidt\": \"gra\",\n",
    "    \"covariance\": \"cov\",\n",
    "    \"correlation\": \"cor\",\n",
    "    \"trmm\": \"trm\",\n",
    "    \"lu\": \"lu\",\n",
    "    \"symm\": \"sym\",\n",
    "    \"seidel-2d\": \"s2d\",\n",
    "    \"floyd-warshall\": \"flo\",\n",
    "    \"2mm\": \"2mm\",\n",
    "    \"mvt\": \"mvt\",\n",
    "    \"deriche\": \"der\",\n",
    "    \"3mm\": \"3mm\",\n",
    "    \"trisolv\": \"tri\",\n",
    "    \"gesummv\": \"ges\",\n",
    "    \"doitgen\": \"doi\",\n",
    "    \"bicg\": \"bic\",\n",
    "    \"ludcmp\": \"lud\",\n",
    "    \"gemver\": \"gev\",\n",
    "    \"cholesky\": \"cho\",\n",
    "    \"nussinov\": \"nus\",\n",
    "    \"heat-3d\": \"h3d\",\n",
    "    \"atax\": \"ata\",\n",
    "    \"durbin\": \"dur\",\n",
    "    \"syr2k\": \"s2k\",\n",
    "    \"jacobi-2d\": \"j2d\",\n",
    "    \"fdtd-2d\": \"f2d\",\n",
    "    \"syrk\": \"syr\",\n",
    "    \"jacobi-1d\": \"j1d\",\n",
    "    \"gemm\": \"gem\",\n",
    "}\n",
    "\n",
    "for k, v in short_names.items():\n",
    "    ree_native[\"Name\"] = ree_native[\"Name\"].replace(k, v)\n",
    "    ree_wasm[\"Name\"] = ree_wasm[\"Name\"].replace(k, v)\n",
    "    tee[\"Name\"] = tee[\"Name\"].replace(k, v)"
   ]
  },
  {
   "cell_type": "code",
   "execution_count": null,
   "metadata": {},
   "outputs": [],
   "source": [
    "# Normalize the results based on REE (Native) time\n",
    "ree_native_normalized = pd.DataFrame()\n",
    "ree_wasm_normalized = pd.DataFrame()\n",
    "tee_normalized = pd.DataFrame()\n",
    "\n",
    "for col in ree_native:\n",
    "    if col == \"Name\":\n",
    "        tee_normalized[col] = tee[col]\n",
    "        ree_wasm_normalized[col] = ree_wasm[col]\n",
    "        ree_native_normalized[col] = ree_native[col]\n",
    "    else:\n",
    "        tee_normalized[col] = tee[col] / ree_native[col]\n",
    "        ree_wasm_normalized[col] = ree_wasm[col] / ree_native[col]\n",
    "        ree_native_normalized[col] = 1\n",
    "    \n",
    "tee_normalized"
   ]
  },
  {
   "cell_type": "code",
   "execution_count": null,
   "metadata": {},
   "outputs": [],
   "source": [
    "# Compute the mean and std\n",
    "ree_native_export = pd.DataFrame()\n",
    "\n",
    "ree_native_export = ree_native_export.append(compute_mean_std(ree_native_normalized[\"Name\"], ree_native_normalized[\"Time\"]))\n",
    "ree_native_export"
   ]
  },
  {
   "cell_type": "code",
   "execution_count": null,
   "metadata": {},
   "outputs": [],
   "source": [
    "# Compute the mean and std\n",
    "ree_wasm_export = pd.DataFrame()\n",
    "\n",
    "ree_wasm_export = ree_wasm_export.append(compute_mean_std(ree_wasm_normalized[\"Name\"], ree_wasm_normalized[\"Time\"]))\n",
    "ree_wasm_export"
   ]
  },
  {
   "cell_type": "code",
   "execution_count": null,
   "metadata": {},
   "outputs": [],
   "source": [
    "# Compute the mean and std\n",
    "tee_export = pd.DataFrame()\n",
    "\n",
    "tee_export = tee_export.append(compute_mean_std(tee_normalized[\"Name\"], tee_normalized[\"Time\"]))\n",
    "tee_export"
   ]
  },
  {
   "cell_type": "code",
   "execution_count": null,
   "metadata": {},
   "outputs": [],
   "source": [
    "#\n",
    "## Temp visualisation\n",
    "#"
   ]
  },
  {
   "cell_type": "code",
   "execution_count": null,
   "metadata": {},
   "outputs": [],
   "source": [
    "df = pd.DataFrame({'REE native': ree_native_export[\"Mean\"],\n",
    "                   'REE WASM': ree_wasm_export[\"Mean\"],\n",
    "                   'TEE WASM': tee_export[\"Mean\"]}, index=ree_native_export.index.values)\n",
    "ax = df.plot.bar()\n",
    "ax.set_ylim(0.9,3)"
   ]
  },
  {
   "cell_type": "code",
   "execution_count": null,
   "metadata": {},
   "outputs": [],
   "source": [
    "tee_mean_of_mean = tee_export[\"Mean\"].mean()\n",
    "tee_mean_of_mean"
   ]
  },
  {
   "cell_type": "code",
   "execution_count": null,
   "metadata": {},
   "outputs": [],
   "source": [
    "ree_wasm_mean_of_mean = ree_wasm_export[\"Mean\"].mean()\n",
    "ree_wasm_mean_of_mean"
   ]
  },
  {
   "cell_type": "code",
   "execution_count": null,
   "metadata": {},
   "outputs": [],
   "source": [
    "# Retrieve the name of the experiment, order by TEE normalized run time\n",
    "for name in tee_export.sort_values(by=[\"Mean\"]).index:\n",
    "    print(f\"{name},\", end = '')"
   ]
  },
  {
   "cell_type": "code",
   "execution_count": null,
   "metadata": {},
   "outputs": [],
   "source": [
    "# Export CSV\n",
    "#\n",
    "# File format: experiment_name, mean, stddev\n",
    "\n",
    "ree_wasm_export.to_csv('../logs/polybench/ree_wasm_formatted.csv')\n",
    "tee_export.to_csv('../logs/polybench/tee_formatted.csv')"
   ]
  },
  {
   "cell_type": "code",
   "execution_count": null,
   "metadata": {},
   "outputs": [],
   "source": [
    "# Export LaTeX\n",
    "\n",
    "prefix = \"Polybench\"\n",
    "\n",
    "floyd_warshall = tee_export.loc[tee_export.index == \"flo\"][\"Mean\"].values[0]\n",
    "nussinov = tee_export.loc[tee_export.index == \"nus\"][\"Mean\"].values[0]\n",
    "\n",
    "def write(file, column_name, number, digits_round = 3):\n",
    "    f.write(f\"\\\\def\\\\bm{prefix}{column_name}{{{formatForLatex(number, digits_round)}}}\\n\")\n",
    "\n",
    "f = open('../logs/polybench/export.tex', \"w\")\n",
    "write(f, \"TeeGlobalSlowdown\", tee_mean_of_mean, 2)\n",
    "write(f, \"ReeWasmGlobalSlowdown\", ree_wasm_mean_of_mean, 2)\n",
    "write(f, \"FloydWarshallSlowdown\", tee_export.loc[tee_export.index == \"flo\"][\"Mean\"].values[0])\n",
    "write(f, \"NussinovSlowdown\", tee_export.loc[tee_export.index == \"nus\"][\"Mean\"].values[0])\n",
    "write(f, \"GlobalSlowdownPercent\", (tee_mean_of_mean - 1) * 100, 1)\n",
    "write(f, \"FloydWarshallSlowdownPercent\", (floyd_warshall - 1) * 100, 1)\n",
    "write(f, \"NussinovSlowdownPercent\", (nussinov - 1) * 100, 1)\n",
    "write(f, \"FloydWarshallNussinovSlowdownPercent\", (floyd_warshall - 1) * 100, 0)\n",
    "f.close()"
   ]
  },
  {
   "cell_type": "code",
   "execution_count": null,
   "metadata": {},
   "outputs": [],
   "source": []
  }
 ],
 "metadata": {
  "kernelspec": {
   "display_name": "Python 3 (ipykernel)",
   "language": "python",
   "name": "python3"
  },
  "language_info": {
   "codemirror_mode": {
    "name": "ipython",
    "version": 3
   },
   "file_extension": ".py",
   "mimetype": "text/x-python",
   "name": "python",
   "nbconvert_exporter": "python",
   "pygments_lexer": "ipython3",
   "version": "3.9.5"
  }
 },
 "nbformat": 4,
 "nbformat_minor": 4
}
