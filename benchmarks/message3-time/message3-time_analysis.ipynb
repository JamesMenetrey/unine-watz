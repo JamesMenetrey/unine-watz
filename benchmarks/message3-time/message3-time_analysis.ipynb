{
 "cells": [
  {
   "cell_type": "code",
   "execution_count": null,
   "metadata": {},
   "outputs": [],
   "source": [
    "# Imports\n",
    "import matplotlib\n",
    "import matplotlib.pyplot as plt\n",
    "import numpy as np\n",
    "import pandas as pd\n",
    "from scipy import stats\n",
    "\n",
    "plt.rcParams['figure.figsize'] = (15.0, 8.0) # set default size of plots\n",
    "plt.rcParams['figure.facecolor'] = 'white'\n",
    "\n",
    "pd.set_option('display.max_rows', None)\n",
    "\n",
    "matplotlib.rcParams.update({'font.size': 15})"
   ]
  },
  {
   "cell_type": "code",
   "execution_count": null,
   "metadata": {},
   "outputs": [],
   "source": [
    "TIME_RETRIEVAL_REE = 0\n",
    "TIME_RETRIEVAL_TEE = 10\n",
    "TIME_RETRIEVAL_REE_WASM = 0\n",
    "TIME_RETRIEVAL_TEE_WASM = 13"
   ]
  },
  {
   "cell_type": "code",
   "execution_count": null,
   "metadata": {},
   "outputs": [],
   "source": [
    "def compute_mean_std(size, time, factor = 1):\n",
    "    df = pd.DataFrame(columns = [\"Size\",\"Time\"])\n",
    "    df[\"Size\"] = size\n",
    "    df[\"Time\"] = time * factor\n",
    "    \n",
    "    result = pd.DataFrame(columns = [\"Mean\",\"Std\"])\n",
    "    result[\"Mean\"] = df.groupby(\"Size\")[\"Time\"].median() #df.groupby(\"Size\")[\"Time\"].apply(stats.gmean)\n",
    "    result[\"Std\"] = df.groupby(\"Size\")[\"Time\"].std() #df.groupby(\"Size\")[\"Time\"].apply(stats.gstd)\n",
    "    #result[\"Size\"] = df.groupby(\"Size\").groups.keys()\n",
    "    \n",
    "    return result\n",
    "\n",
    "def formatForLatex(n, digits_round = 2):\n",
    "    roundedAsString = str(round(n, digits_round))\n",
    "    if \".\" in roundedAsString:\n",
    "        roundedAsString = roundedAsString.rstrip(\"0\")\n",
    "        roundedAsString = roundedAsString.rstrip(\".\")\n",
    "    return f\"{roundedAsString}\""
   ]
  },
  {
   "cell_type": "code",
   "execution_count": null,
   "metadata": {},
   "outputs": [],
   "source": [
    "#\n",
    "## Attester data\n",
    "#"
   ]
  },
  {
   "cell_type": "code",
   "execution_count": null,
   "metadata": {},
   "outputs": [],
   "source": [
    "# Import the dataset\n",
    "attester = pd.read_csv(\"../logs/message3-time/attester.csv\", \\\n",
    "        names = [\"Size\",\"MallocStart\",\"MallocEnd\",\"DecryptStart\",\"DecryptEnd\",\"IsValid\",\"Error\"])\n",
    "\n",
    "# Remove erroneous entries\n",
    "attester = attester[attester['IsValid'] == 1].drop(columns = [\"IsValid\", \"Error\"])\n",
    "attester"
   ]
  },
  {
   "cell_type": "code",
   "execution_count": null,
   "metadata": {},
   "outputs": [],
   "source": [
    "# Summary of the gathered timespans\n",
    "attester_spans = pd.DataFrame()\n",
    "\n",
    "attester_spans[\"Size\"] = attester[\"Size\"] / 1024\n",
    "attester_spans[\"MallocSpan\"] = attester[\"MallocEnd\"] - attester[\"MallocStart\"] \\\n",
    "                        - 2*TIME_RETRIEVAL_TEE/2\n",
    "\n",
    "attester_spans[\"DecryptSpan\"] = attester[\"DecryptEnd\"] - attester[\"DecryptStart\"] \\\n",
    "                        - 2*TIME_RETRIEVAL_TEE/2\n",
    "\n",
    "attester_spans"
   ]
  },
  {
   "cell_type": "code",
   "execution_count": null,
   "metadata": {},
   "outputs": [],
   "source": [
    "# Compute the mean and std\n",
    "attester_malloc_export = compute_mean_std(attester_spans[\"Size\"], attester_spans[\"MallocSpan\"], 0.001)\n",
    "attester_malloc_export"
   ]
  },
  {
   "cell_type": "code",
   "execution_count": null,
   "metadata": {},
   "outputs": [],
   "source": [
    "# Compute the mean and std\n",
    "attester_decrypt_export = compute_mean_std(attester_spans[\"Size\"], attester_spans[\"DecryptSpan\"], 0.001)\n",
    "attester_decrypt_export"
   ]
  },
  {
   "cell_type": "code",
   "execution_count": null,
   "metadata": {},
   "outputs": [],
   "source": [
    "#\n",
    "## Verifier data\n",
    "#"
   ]
  },
  {
   "cell_type": "code",
   "execution_count": null,
   "metadata": {},
   "outputs": [],
   "source": [
    "# Import the datasets\n",
    "verifier_columns = [\"Size\",\"Malloc1Start\",\"Malloc1End\",\"EncryptStart\",\"EncryptEnd\",\"Malloc2Start\",\"Malloc2End\"]\n",
    "verifier = pd.read_csv(\"../logs/message3-time/verifier.csv\", names = verifier_columns)\n",
    "\n",
    "attester_for_errors = pd.read_csv(\"../logs/message3-time/attester.csv\", \\\n",
    "        names = [\"Size2\",\"MallocStart2\",\"MallocEnd2\",\"DecryptStart\",\"DecryptEnd\",\"IsValid\",\"Error\"])\n",
    "\n",
    "# Merge the two to identify which entries are erroneous in the verifier dataset\n",
    "verifier = pd.concat([verifier, attester_for_errors], axis = 1)\n",
    "verifier"
   ]
  },
  {
   "cell_type": "code",
   "execution_count": null,
   "metadata": {},
   "outputs": [],
   "source": [
    "# Remove erroneous entries\n",
    "verifier = verifier[verifier['IsValid'] == 1]\n",
    "\n",
    "# Filter out attester columns\n",
    "verifier = verifier[verifier_columns]\n",
    "verifier"
   ]
  },
  {
   "cell_type": "code",
   "execution_count": null,
   "metadata": {},
   "outputs": [],
   "source": [
    "verifier_spans = pd.DataFrame()\n",
    "\n",
    "verifier_spans[\"Size\"] = verifier[\"Size\"] / 1024\n",
    "verifier_spans[\"MallocSpan\"] = verifier[\"Malloc1End\"] - verifier[\"Malloc1Start\"] \\\n",
    "                        + verifier[\"Malloc2End\"] - verifier[\"Malloc2Start\"] \\\n",
    "                        - 4*TIME_RETRIEVAL_TEE/2\n",
    "\n",
    "verifier_spans[\"EncryptSpan\"] = verifier[\"EncryptEnd\"] - verifier[\"EncryptStart\"] \\\n",
    "                        - 2*TIME_RETRIEVAL_TEE/2\n",
    "\n",
    "verifier_spans"
   ]
  },
  {
   "cell_type": "code",
   "execution_count": null,
   "metadata": {},
   "outputs": [],
   "source": [
    "# Compute the mean and std\n",
    "verifier_malloc_export = compute_mean_std(verifier_spans[\"Size\"], verifier_spans[\"MallocSpan\"], 0.001)\n",
    "verifier_malloc_export"
   ]
  },
  {
   "cell_type": "code",
   "execution_count": null,
   "metadata": {},
   "outputs": [],
   "source": [
    "verifier_encrypt_export = compute_mean_std(verifier_spans[\"Size\"], verifier_spans[\"EncryptSpan\"], 0.001)\n",
    "verifier_encrypt_export"
   ]
  },
  {
   "cell_type": "code",
   "execution_count": null,
   "metadata": {},
   "outputs": [],
   "source": [
    "# Draw the area plot\n",
    "area_plot_data = pd.DataFrame()\n",
    "area_plot_data[\"AttesterMalloc\"] = attester_malloc_export[\"Mean\"]\n",
    "area_plot_data[\"AttesterDecrypt\"] = attester_decrypt_export[\"Mean\"]\n",
    "area_plot_data[\"VerifierEncrypt\"] = verifier_encrypt_export[\"Mean\"]\n",
    "area_plot_data[\"VerifierMalloc\"] = verifier_malloc_export[\"Mean\"]\n",
    "\n",
    "area_plot_data.plot.bar(stacked=True) #.area()"
   ]
  },
  {
   "cell_type": "code",
   "execution_count": null,
   "metadata": {},
   "outputs": [],
   "source": [
    "# Export CSV\n",
    "#\n",
    "# File format: size, mean, stddev\n",
    "\n",
    "attester_malloc_export.to_csv('../logs/message3-time/attester_malloc_formatted.csv')\n",
    "attester_decrypt_export.to_csv('../logs/message3-time/attester_decrypt_formatted.csv')\n",
    "verifier_malloc_export.to_csv('../logs/message3-time/verifier_malloc_formatted.csv')\n",
    "verifier_encrypt_export.to_csv('../logs/message3-time/verifier_encrypt_formatted.csv')"
   ]
  },
  {
   "cell_type": "code",
   "execution_count": null,
   "metadata": {},
   "outputs": [],
   "source": [
    "# Compute values for the paper\n",
    "\n",
    "message3_minimum_time = verifier_encrypt_export.loc[verifier_encrypt_export.index == 0.5][\"Mean\"].values[0] \\\n",
    "                        + attester_decrypt_export.loc[attester_decrypt_export.index == 0.5][\"Mean\"].values[0]\n",
    "\n",
    "message3_time_at_one_mb = verifier_encrypt_export.loc[verifier_encrypt_export.index == 1.0][\"Mean\"].values[0] \\\n",
    "                        + attester_decrypt_export.loc[attester_decrypt_export.index == 1.0][\"Mean\"].values[0]\n",
    "\n",
    "message3_maximum_time = verifier_encrypt_export.loc[verifier_encrypt_export.index == 3.0][\"Mean\"].values[0] \\\n",
    "                        + attester_decrypt_export.loc[attester_decrypt_export.index == 3.0][\"Mean\"].values[0]"
   ]
  },
  {
   "cell_type": "code",
   "execution_count": null,
   "metadata": {},
   "outputs": [],
   "source": [
    "# Export LaTeX\n",
    "\n",
    "def write(file, name, number):\n",
    "    f.write(f\"\\\\def\\\\bmMessageThree{name}{{{number}}}\\n\")\n",
    "        \n",
    "f = open(\"../logs/message3-time/export.tex\", \"w\")\n",
    "write(f, \"MinimumTime\", f\"{round(message3_minimum_time):,}\")\n",
    "write(f, \"MaximumTime\", f\"{round(message3_maximum_time):,}\")\n",
    "write(f, \"TimeAtOneMB\", f\"{formatForLatex(message3_time_at_one_mb, 1)}\")\n",
    "f.close()"
   ]
  },
  {
   "cell_type": "code",
   "execution_count": null,
   "metadata": {},
   "outputs": [],
   "source": []
  }
 ],
 "metadata": {
  "kernelspec": {
   "display_name": "Python 3 (ipykernel)",
   "language": "python",
   "name": "python3"
  },
  "language_info": {
   "codemirror_mode": {
    "name": "ipython",
    "version": 3
   },
   "file_extension": ".py",
   "mimetype": "text/x-python",
   "name": "python",
   "nbconvert_exporter": "python",
   "pygments_lexer": "ipython3",
   "version": "3.9.5"
  }
 },
 "nbformat": 4,
 "nbformat_minor": 4
}
